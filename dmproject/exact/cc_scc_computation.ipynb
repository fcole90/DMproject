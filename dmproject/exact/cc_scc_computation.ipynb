{
 "cells": [
  {
   "cell_type": "code",
   "execution_count": null,
   "metadata": {
    "collapsed": true
   },
   "outputs": [],
   "source": [
    "# Please run `jupyter notebook` from the folder in which is this file (it uses getcwd()!)\n",
    "%reload_ext autoreload\n",
    "%autoreload 2\n",
    "\n",
    "import networkx as nx\n",
    "import numpy as np\n",
    "from networkx.algorithms.components import strongly_connected_component_subgraphs\n",
    "from networkx.algorithms.components import connected_component_subgraphs\n",
    "import timeit\n",
    "import os\n",
    "\n",
    "workdir = os.getcwd()\n",
    "utildir = os.path.join(workdir, os.path.pardir, \"utils\")\n",
    "\n",
    "if(os.curdir != workdir):\n",
    "    os.chdir(workdir)\n",
    "\n",
    "import sys\n",
    "sys.path.insert(0, utildir)\n",
    "\n",
    "import utils\n",
    "import pickle\n",
    "import time"
   ]
  },
  {
   "cell_type": "code",
   "execution_count": null,
   "metadata": {
    "collapsed": true
   },
   "outputs": [],
   "source": [
    "graph_files = []\n",
    "graph_files.append(os.path.join(os.path.pardir, 'dataset', 'wiki_vote', 'Wiki-Vote.txt'))\n",
    "graph_files.append(os.path.join(os.path.pardir, 'dataset', 'epinions', 'soc-Epinions1.txt'))\n",
    "graph_files.append(os.path.join(os.path.pardir, 'dataset', 'gplus', 'gplus_combined.txt'))\n",
    "graph_files.append(os.path.join(os.path.pardir, 'dataset', 'soc_pokec', 'soc-pokec-relationships.txt'))\n",
    "\n",
    "graph_names = [\"wikivote\", \"epinions\", \"gplus\", \"pokec\"]"
   ]
  },
  {
   "cell_type": "code",
   "execution_count": null,
   "metadata": {
    "collapsed": true
   },
   "outputs": [],
   "source": [
    "for graph_file, graph_name in zip(graph_files[0:3], graph_names[0:3]):\n",
    "    gtype = \"cc\"\n",
    "    \n",
    "    # loading the graph\n",
    "    G = nx.read_adjlist(graph_file, create_using=nx.Graph())\n",
    "    \n",
    "    # Computing the largest cc \n",
    "    start_time = time.time()\n",
    "    cc_lst = utils.get_cc(G)\n",
    "    largest_cc = utils.get_largest_cc(cc_lst)\n",
    "    end_time = time.time()\n",
    "    print(graph_name, \" - cc computiation time: \", end_time-start_time)\n",
    "    \n",
    "    # writing out the largest cc\n",
    "    nx.write_edgelist(largest_cc, graph_name + \".edgelist\", data=False)\n",
    "    "
   ]
  },
  {
   "cell_type": "code",
   "execution_count": null,
   "metadata": {
    "collapsed": true
   },
   "outputs": [],
   "source": [
    "gaph_file = graph_files[3]\n",
    "graph_name = graph_names[3]\n",
    "gtype = \"cc\"\n",
    "    \n",
    "# loading the graph\n",
    "G = nx.read_adjlist(graph_file, create_using=nx.Graph())\n",
    "\n",
    "# Computing the largest cc \n",
    "start_time = time.time()\n",
    "cc_lst = utils.get_cc(G)\n",
    "largest_cc = utils.get_largest_cc(cc_lst)\n",
    "end_time = time.time()\n",
    "print(graph_name, \" - cc computiation time: \", end_time-start_time)\n",
    "\n",
    "# writing out the largest cc\n",
    "nx.write_edgelist(G, graph_name + \"_\" + gtype + \".edgelist\", data=False)"
   ]
  },
  {
   "cell_type": "code",
   "execution_count": null,
   "metadata": {
    "collapsed": true
   },
   "outputs": [],
   "source": [
    "for graph_file, graph_name in zip(graph_files[0:3], graph_names[0:3]):\n",
    "    gtype = \"scc\"\n",
    "    \n",
    "    # loading the graph\n",
    "    dG = nx.read_adjlist(graph_file, create_using=nx.DiGraph())\n",
    "    \n",
    "    # Computing the largest cc \n",
    "    start_time = time.time()\n",
    "    print(\"started\")\n",
    "    scc_lst = utils.get_scc(dG)\n",
    "    print(\"finished scc\")\n",
    "    largest_scc = utils.get_largest_cc(scc_lst)\n",
    "    print(\"finished largest scc\")\n",
    "    end_time = time.time()\n",
    "    print(graph_name, \" - scc computiation time: \", end_time-start_time)\n",
    "    \n",
    "    # writing out the largest cc\n",
    "    nx.write_edgelist(largest_scc, graph_name + \"_\" + gtype + \".edgelist\", data=False)"
   ]
  },
  {
   "cell_type": "code",
   "execution_count": null,
   "metadata": {
    "collapsed": true
   },
   "outputs": [],
   "source": [
    "print(\"ciaone\")"
   ]
  },
  {
   "cell_type": "code",
   "execution_count": null,
   "metadata": {
    "collapsed": true
   },
   "outputs": [],
   "source": [
    "graph_file = graph_files[3]\n",
    "graph_name = graph_names[3]\n",
    "gtype = \"cc\"\n",
    "file_name = \"../dataset/soc_pokec/lwcc_soc-Pokec_nodes.npy\"\n",
    "# loading the graph\n",
    "adj_list = np.load(file_name)\n",
    "G = nx.read_adjlist(graph_file, create_using=nx.DiGraph())\n",
    "subG = G.subgraph(node_list)\n",
    "print(\"subg completed\")\n",
    "'''\n",
    "G = nx.read_adjlist(graph_file, create_using=nx.DiGraph())\n",
    "\n",
    "# Computing the largest cc \n",
    "start_time = time.time()\n",
    "scc_lst = utils.get_scc(G)\n",
    "largest_scc = utils.get_largest_cc(scc_lst)\n",
    "end_time = time.time()\n",
    "print(graph_name, \" - scc computiation time: \", end_time-start_time)\n",
    "\n",
    "# writing out the largest cc\n",
    "nx.write_edgelist(G, graph_name + \"_\" + gtype + \".edgelist\", data=False)\n",
    "'''"
   ]
  },
  {
   "cell_type": "code",
   "execution_count": null,
   "metadata": {
    "collapsed": true
   },
   "outputs": [],
   "source": [
    "gaph_file = graph_files[3]\n",
    "graph_name = graph_names[3]\n",
    "gtype = \"scc\"\n",
    "file_name = \"../dataset/soc_pokec/lscc_soc-Pokec_nodes.npy\"\n",
    "# loading the graph\n",
    "node_list = np.load()\n",
    "G = nx.read_adjlist(graph_file, create_using=nx.DiGraph())\n",
    "subG = G.subgraph(node_list)\n",
    "print(\"subg completed\")\n",
    "'''\n",
    "\n",
    "# Computing the largest cc \n",
    "start_time = time.time()\n",
    "scc_lst = utils.get_scc(G)\n",
    "largest_scc = utils.get_largest_cc(scc_lst)\n",
    "end_time = time.time()\n",
    "print(graph_name, \" - scc computiation time: \", end_time-start_time)\n",
    "\n",
    "# writing out the largest cc\n",
    "nx.write_edgelist(G, graph_name + \"_\" + gtype + \".edgelist\", data=False)\n",
    "'''"
   ]
  },
  {
   "cell_type": "code",
   "execution_count": null,
   "metadata": {
    "collapsed": true
   },
   "outputs": [],
   "source": []
  }
 ],
 "metadata": {
  "kernelspec": {
   "display_name": "Python 3",
   "language": "python",
   "name": "python3"
  },
  "language_info": {
   "codemirror_mode": {
    "name": "ipython",
    "version": 3
   },
   "file_extension": ".py",
   "mimetype": "text/x-python",
   "name": "python",
   "nbconvert_exporter": "python",
   "pygments_lexer": "ipython3",
   "version": "3.6.3"
  }
 },
 "nbformat": 4,
 "nbformat_minor": 2
}
