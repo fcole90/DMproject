{
 "cells": [
  {
   "cell_type": "code",
   "execution_count": 2,
   "metadata": {},
   "outputs": [],
   "source": [
    "%reload_ext autoreload\n",
    "%autoreload 2\n",
    "\n",
    "import networkx as nx\n",
    "import numpy as np\n",
    "import matplotlib.pyplot as plt\n",
    "from networkx.algorithms.components import strongly_connected_component_subgraphs\n",
    "from networkx.algorithms.components import connected_component_subgraphs\n",
    "import timeit\n",
    "import os\n",
    "\n",
    "\n",
    "import pickle\n",
    "import time\n",
    "\n",
    "workdir = \"/home/michele/aalto/dm/DMproject/dmproject/approximate\"\n",
    "if(os.curdir != workdir):\n",
    "    os.chdir(\"/home/michele/aalto/dm/DMproject/dmproject/approximate\")\n",
    "\n",
    "import sys\n",
    "sys.path.insert(0, '/home/michele/aalto/dm/DMproject/dmproject/utils')\n",
    "\n",
    "import utils"
   ]
  },
  {
   "cell_type": "code",
   "execution_count": 3,
   "metadata": {},
   "outputs": [],
   "source": [
    "graph_files = []\n",
    "graph_files.append(os.path.join(os.path.pardir, 'dataset', 'wiki_vote', 'Wiki-Vote.txt'))\n",
    "graph_files.append(os.path.join(os.path.pardir, 'dataset', 'epinions', 'soc-Epinions1.txt'))\n",
    "graph_files.append(os.path.join(os.path.pardir, 'dataset', 'gplus', 'gplus_combined.txt'))\n",
    "graph_files.append(os.path.join(os.path.pardir, 'dataset', 'soc_pokec', 'soc-pokec-relationships.txt'))\n",
    "\n",
    "graph_names = [\"wikivote\", \"epinions\", \"gplus\", \"pokec\"]"
   ]
  },
  {
   "cell_type": "code",
   "execution_count": 4,
   "metadata": {},
   "outputs": [
    {
     "name": "stdout",
     "output_type": "stream",
     "text": [
      "cc completed\nlargest cc completed\n('wikivote', ' - cc computiation time: ', 1.0274479389190674)\n"
     ]
    },
    {
     "name": "stdout",
     "output_type": "stream",
     "text": [
      "cc completed\nlargest cc completed\n('epinions', ' - cc computiation time: ', 6.171308994293213)\n"
     ]
    },
    {
     "name": "stdout",
     "output_type": "stream",
     "text": [
      "cc completed\nlargest cc completed\n('gplus', ' - cc computiation time: ', 263.5124340057373)\n"
     ]
    }
   ],
   "source": [
    "for graph_file, graph_name in zip(graph_files[0:3], graph_names[0:3]):\n",
    "    gtype = \"cc\"\n",
    "    \n",
    "    # loading the graph\n",
    "    G = nx.read_adjlist(graph_file, create_using=nx.Graph())\n",
    "    \n",
    "    # Computing the largest cc \n",
    "    start_time = time.time()\n",
    "    cc_lst = utils.get_cc(G)\n",
    "    largest_cc = utils.get_largest_cc(cc_lst)\n",
    "    end_time = time.time()\n",
    "    print(graph_name, \" - cc computiation time: \", end_time-start_time)\n",
    "    \n",
    "    # writing out the largest cc\n",
    "    nx.write_edgelist(largest_cc, graph_name + \".edgelist\", data=False)\n",
    "    "
   ]
  },
  {
   "cell_type": "code",
   "execution_count": null,
   "metadata": {},
   "outputs": [],
   "source": [
    "gaph_file = graph_files[3]\n",
    "graph_name = graph_names[3]\n",
    "gtype = \"cc\"\n",
    "    \n",
    "# loading the graph\n",
    "G = nx.read_adjlist(graph_file, create_using=nx.Graph())\n",
    "\n",
    "# Computing the largest cc \n",
    "start_time = time.time()\n",
    "cc_lst = utils.get_cc(G)\n",
    "largest_cc = utils.get_largest_cc(cc_lst)\n",
    "end_time = time.time()\n",
    "print(graph_name, \" - cc computiation time: \", end_time-start_time)\n",
    "\n",
    "# writing out the largest cc\n",
    "nx.write_edgelist(G, graph_name + \"_\" + gtype + \".edgelist\", data=False)"
   ]
  },
  {
   "cell_type": "code",
   "execution_count": 5,
   "metadata": {},
   "outputs": [
    {
     "name": "stdout",
     "output_type": "stream",
     "text": [
      "started\n"
     ]
    },
    {
     "name": "stdout",
     "output_type": "stream",
     "text": [
      "scc completed\nfinished scc\nlargest cc completed\nfinished largest scc\n('wikivote', ' - scc computiation time: ', 20.560781955718994)\n"
     ]
    },
    {
     "name": "stdout",
     "output_type": "stream",
     "text": [
      "started\n"
     ]
    },
    {
     "name": "stdout",
     "output_type": "stream",
     "text": [
      "scc completed\n"
     ]
    },
    {
     "name": "stdout",
     "output_type": "stream",
     "text": [
      "finished scc\nlargest cc completed\nfinished largest scc\n('epinions', ' - scc computiation time: ', 2129.9989981651306)\n"
     ]
    },
    {
     "name": "stdout",
     "output_type": "stream",
     "text": [
      "started\n"
     ]
    }
   ],
   "source": [
    "for graph_file, graph_name in zip(graph_files[0:3], graph_names[0:3]):\n",
    "    gtype = \"scc\"\n",
    "    \n",
    "    # loading the graph\n",
    "    dG = nx.read_adjlist(graph_file, create_using=nx.DiGraph())\n",
    "    \n",
    "    # Computing the largest cc \n",
    "    start_time = time.time()\n",
    "    print(\"started\")\n",
    "    scc_lst = utils.get_scc(dG)\n",
    "    print(\"finished scc\")\n",
    "    largest_scc = utils.get_largest_cc(scc_lst)\n",
    "    print(\"finished largest scc\")\n",
    "    end_time = time.time()\n",
    "    print(graph_name, \" - scc computiation time: \", end_time-start_time)\n",
    "    \n",
    "    # writing out the largest cc\n",
    "    nx.write_edgelist(largest_scc, graph_name + \"_\" + gtype + \".edgelist\", data=False)"
   ]
  },
  {
   "cell_type": "code",
   "execution_count": null,
   "metadata": {},
   "outputs": [],
   "source": [
    "print(\"ciaone\")"
   ]
  },
  {
   "cell_type": "code",
   "execution_count": null,
   "metadata": {},
   "outputs": [],
   "source": [
    "graph_file = graph_files[3]\n",
    "graph_name = graph_names[3]\n",
    "gtype = \"cc\"\n",
    "file_name = \"../dataset/soc_pokec/lwcc_soc-Pokec_nodes.npy\"\n",
    "# loading the graph\n",
    "adj_list = np.load(file_name)\n",
    "G = nx.read_adjlist(graph_file, create_using=nx.DiGraph())\n",
    "subG = G.subgraph(node_list)\n",
    "print(\"subg completed\")\n",
    "'''\n",
    "G = nx.read_adjlist(graph_file, create_using=nx.DiGraph())\n",
    "\n",
    "# Computing the largest cc \n",
    "start_time = time.time()\n",
    "scc_lst = utils.get_scc(G)\n",
    "largest_scc = utils.get_largest_cc(scc_lst)\n",
    "end_time = time.time()\n",
    "print(graph_name, \" - scc computiation time: \", end_time-start_time)\n",
    "\n",
    "# writing out the largest cc\n",
    "nx.write_edgelist(G, graph_name + \"_\" + gtype + \".edgelist\", data=False)\n",
    "'''"
   ]
  },
  {
   "cell_type": "code",
   "execution_count": 7,
   "metadata": {},
   "outputs": [
    {
     "ename": "TypeError",
     "evalue": "load() missing 1 required positional argument: 'file'",
     "traceback": [
      "\u001b[0;31m---------------------------------------------------------------------------\u001b[0m",
      "\u001b[0;31mTypeError\u001b[0m                                 Traceback (most recent call last)",
      "\u001b[0;32m<ipython-input-7-907d2fda7311>\u001b[0m in \u001b[0;36m<module>\u001b[0;34m()\u001b[0m\n\u001b[1;32m      4\u001b[0m \u001b[0mfile_name\u001b[0m \u001b[0;34m=\u001b[0m \u001b[0;34m\"../dataset/soc_pokec/lscc_soc-Pokec_nodes.npy\"\u001b[0m\u001b[0;34m\u001b[0m\u001b[0m\n\u001b[1;32m      5\u001b[0m \u001b[0;31m# loading the graph\u001b[0m\u001b[0;34m\u001b[0m\u001b[0;34m\u001b[0m\u001b[0m\n\u001b[0;32m----> 6\u001b[0;31m \u001b[0mnode_list\u001b[0m \u001b[0;34m=\u001b[0m \u001b[0mnp\u001b[0m\u001b[0;34m.\u001b[0m\u001b[0mload\u001b[0m\u001b[0;34m(\u001b[0m\u001b[0;34m)\u001b[0m\u001b[0;34m\u001b[0m\u001b[0m\n\u001b[0m\u001b[1;32m      7\u001b[0m \u001b[0mG\u001b[0m \u001b[0;34m=\u001b[0m \u001b[0mnx\u001b[0m\u001b[0;34m.\u001b[0m\u001b[0mread_adjlist\u001b[0m\u001b[0;34m(\u001b[0m\u001b[0mgraph_file\u001b[0m\u001b[0;34m,\u001b[0m \u001b[0mcreate_using\u001b[0m\u001b[0;34m=\u001b[0m\u001b[0mnx\u001b[0m\u001b[0;34m.\u001b[0m\u001b[0mDiGraph\u001b[0m\u001b[0;34m(\u001b[0m\u001b[0;34m)\u001b[0m\u001b[0;34m)\u001b[0m\u001b[0;34m\u001b[0m\u001b[0m\n\u001b[1;32m      8\u001b[0m \u001b[0msubG\u001b[0m \u001b[0;34m=\u001b[0m \u001b[0mG\u001b[0m\u001b[0;34m.\u001b[0m\u001b[0msubgraph\u001b[0m\u001b[0;34m(\u001b[0m\u001b[0mnode_list\u001b[0m\u001b[0;34m)\u001b[0m\u001b[0;34m\u001b[0m\u001b[0m\n",
      "\u001b[0;31mTypeError\u001b[0m: load() missing 1 required positional argument: 'file'"
     ],
     "output_type": "error"
    }
   ],
   "source": [
    "gaph_file = graph_files[3]\n",
    "graph_name = graph_names[3]\n",
    "gtype = \"scc\"\n",
    "file_name = \"../dataset/soc_pokec/lscc_soc-Pokec_nodes.npy\"\n",
    "# loading the graph\n",
    "node_list = np.load()\n",
    "G = nx.read_adjlist(graph_file, create_using=nx.DiGraph())\n",
    "subG = G.subgraph(node_list)\n",
    "print(\"subg completed\")\n",
    "'''\n",
    "\n",
    "# Computing the largest cc \n",
    "start_time = time.time()\n",
    "scc_lst = utils.get_scc(G)\n",
    "largest_scc = utils.get_largest_cc(scc_lst)\n",
    "end_time = time.time()\n",
    "print(graph_name, \" - scc computiation time: \", end_time-start_time)\n",
    "\n",
    "# writing out the largest cc\n",
    "nx.write_edgelist(G, graph_name + \"_\" + gtype + \".edgelist\", data=False)\n",
    "'''"
   ]
  },
  {
   "cell_type": "code",
   "execution_count": null,
   "metadata": {},
   "outputs": [],
   "source": []
  }
 ],
 "metadata": {
  "kernelspec": {
   "display_name": "Python 3",
   "language": "python",
   "name": "python3"
  },
  "language_info": {
   "codemirror_mode": {
    "name": "ipython",
    "version": 3
   },
   "file_extension": ".py",
   "mimetype": "text/x-python",
   "name": "python",
   "nbconvert_exporter": "python",
   "pygments_lexer": "ipython3",
   "version": "3.5.3"
  }
 },
 "nbformat": 4,
 "nbformat_minor": 2
}
