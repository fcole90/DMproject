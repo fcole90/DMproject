{
 "cells": [
  {
   "cell_type": "code",
   "execution_count": null,
   "metadata": {
    "collapsed": true
   },
   "outputs": [],
   "source": [
    "# Please run `jupyter notebook` from the folder in which is this file (it uses getcwd()!)\n",
    "%reload_ext autoreload\n",
    "%autoreload 2\n",
    "\n",
    "import networkx as nx\n",
    "import numpy as np\n",
    "from networkx.algorithms.components import strongly_connected_component_subgraphs\n",
    "from networkx.algorithms.components import connected_component_subgraphs\n",
    "import timeit\n",
    "import os\n",
    "\n",
    "workdir = os.getcwd()\n",
    "utildir = os.path.join(workdir, os.path.pardir, \"utils\")\n",
    "\n",
    "if(os.curdir != workdir):\n",
    "    os.chdir(workdir)\n",
    "\n",
    "import sys\n",
    "sys.path.insert(0, utildir)\n",
    "\n",
    "import utils\n",
    "import pickle\n",
    "import time\n",
    "graph_names = [\"wikivote\", \"epinions\", \"gplus\", \"pokec\"]"
   ]
  },
  {
   "cell_type": "code",
   "execution_count": null,
   "metadata": {
    "collapsed": true
   },
   "outputs": [],
   "source": [
    "graph_files = []\n",
    "graph_files.append(os.path.join(os.path.pardir, 'dataset', 'wiki_vote', graph_names[0] + '_cc.edgelist'))\n",
    "graph_files.append(os.path.join(os.path.pardir, 'dataset', 'epinions', graph_names[1] + '_cc.edgelist'))\n",
    "graph_files.append(os.path.join(os.path.pardir, 'dataset', 'gplus', graph_names[2] + '_cc.edgelist'))\n",
    "graph_files.append(os.path.join(os.path.pardir, 'dataset', 'soc_pokec', graph_names[3] + '_cc.edgelist'))"
   ]
  },
  {
   "cell_type": "code",
   "execution_count": null,
   "metadata": {
    "collapsed": true
   },
   "outputs": [],
   "source": [
    "for graph_file, graph_name in zip(graph_files[0:1], graph_names[0:1]):\n",
    "    gtype = \"cc\"\n",
    "    G = nx.read_adjlist(graph_file, create_using=nx.Graph())\n",
    "    print(len(G.nodes))\n",
    "    start_time = time.time()\n",
    "\n",
    "    stats_cc, _ = utils.exact_computation_g(G, graph_name + \"_exact\")\n",
    "    print(stats_cc)\n",
    "    \n",
    "    end_time = time.time()\n",
    "    print(end_time-start_time)"
   ]
  },
  {
   "cell_type": "code",
   "execution_count": null,
   "metadata": {
    "collapsed": true
   },
   "outputs": [],
   "source": [
    "graph_files = []\n",
    "graph_files.append(os.path.join(os.path.pardir, 'dataset', 'wiki_vote', graph_names[0] + '_scc.edgelist'))\n",
    "graph_files.append(os.path.join(os.path.pardir, 'dataset', 'epinions', graph_names[1] + '_scc.edgelist'))\n",
    "graph_files.append(os.path.join(os.path.pardir, 'dataset', 'gplus', graph_names[2] + '_scc.edgelist'))\n",
    "graph_files.append(os.path.join(os.path.pardir, 'dataset', 'soc_pokec', graph_names[3] + '_scc.edgelist'))"
   ]
  },
  {
   "cell_type": "code",
   "execution_count": null,
   "metadata": {
    "collapsed": true
   },
   "outputs": [],
   "source": [
    "for graph_file, graph_name in zip(graph_files[0:1], graph_names[0:1]):\n",
    "    gtype = \"scc\"\n",
    "    start_time = time.time()\n",
    "    G = nx.read_adjlist(graph_file, create_using=nx.DiGraph())\n",
    "    print(len(G.nodes))\n",
    "    \n",
    "    stats_scc, _ = utils.exact_computation_g(G, graph_name + \"_exact_\" + gtype)\n",
    "    print(stats_scc)\n",
    "    \n",
    "    end_time = time.time()\n",
    "    print(end_time-start_time)"
   ]
  },
  {
   "cell_type": "code",
   "execution_count": null,
   "metadata": {
    "collapsed": true
   },
   "outputs": [],
   "source": []
  }
 ],
 "metadata": {
  "kernelspec": {
   "display_name": "Python 3",
   "language": "python",
   "name": "python3"
  },
  "language_info": {
   "codemirror_mode": {
    "name": "ipython",
    "version": 3
   },
   "file_extension": ".py",
   "mimetype": "text/x-python",
   "name": "python",
   "nbconvert_exporter": "python",
   "pygments_lexer": "ipython3",
   "version": "3.6.3"
  }
 },
 "nbformat": 4,
 "nbformat_minor": 2
}
