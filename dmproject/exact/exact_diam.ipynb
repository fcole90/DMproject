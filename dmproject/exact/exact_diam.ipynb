{
 "cells": [
  {
   "cell_type": "code",
   "execution_count": 64,
   "metadata": {
    "collapsed": true
   },
   "outputs": [],
   "source": [
    "import networkx as nx\n",
    "import numpy as np\n",
    "import matplotlib.pyplot as plt\n",
    "from networkx.algorithms.components import strongly_connected_component_subgraphs\n",
    "from networkx.algorithms.components import connected_component_subgraphs\n",
    "import timeit\n",
    "import os\n",
    "\n",
    "workdir = \"/home/michele/aalto/dm/DMproject/dmproject/exact\"\n",
    "if(os.curdir != workdir):\n",
    "    os.chdir(\"/home/michele/aalto/dm/DMproject/dmproject/exact\")\n",
    "\n",
    "import sys\n",
    "sys.path.insert(0, '/home/michele/aalto/dm/DMproject/dmproject/utils')\n",
    "\n",
    "import utils\n",
    "import pickle\n",
    "import time\n",
    "\n",
    "\n"
   ]
  },
  {
   "cell_type": "code",
   "execution_count": 16,
   "metadata": {},
   "outputs": [],
   "source": [
    "graph_files = []\n",
    "graph_files.append(os.path.join(os.path.pardir, 'dataset', 'wiki_vote', 'Wiki-Vote.txt'))\n",
    "graph_files.append(os.path.join(os.path.pardir, 'dataset', 'epinions', 'soc-Epinions1.txt'))\n",
    "graph_files.append(os.path.join(os.path.pardir, 'dataset', 'gplus', 'gplus_combined.txt'))\n",
    "graph_files.append(os.path.join(os.path.pardir, 'dataset', 'soc_pokec', 'soc-pokec-relationships.txt'))"
   ]
  },
  {
   "cell_type": "code",
   "execution_count": 25,
   "metadata": {},
   "outputs": [],
   "source": [
    "allfiles_cc_lst = []\n",
    "allfiles_scc_lst = []\n",
    "allfiles_largest_cc_lst = []\n",
    "allfiles_largest_scc_lst = []\n",
    "allfiles_largest_cc_len_lst = []\n",
    "allfiles_largest_scc_len_lst = []\n",
    "allfiles_largest_cc_diam_lst = []\n",
    "allfiles_largest_scc_diam_lst = []\n",
    "allfiles_timing_lst = []\n",
    "allfiles_timing_cc_lst = []\n",
    "allfiles_timing_scc_lst = []"
   ]
  },
  {
   "cell_type": "code",
   "execution_count": null,
   "metadata": {},
   "outputs": [],
   "source": [
    "for file in graph_files:\n",
    "\n",
    "    with open(file, \"rb\") as fh:\n",
    "        start_time = time.time()\n",
    "        # import of directed\n",
    "        dG = nx.read_adjlist(fh, create_using=nx.DiGraph())\n",
    "        # conversion to undirected graph\n",
    "        G = dG.to_undirected()\n",
    "        \n",
    "        # weakly cc\n",
    "        cc = connected_component_subgraphs(G)\n",
    "        cc_list = list(cc)\n",
    "        allfiles_cc_lst.append(cc)\t\t\n",
    "        print(\"cc completed\")\n",
    "        pickle.dump(cc_list, open(file + \"_cc_list.pkl\", \"wb\"))\n",
    "        \n",
    "        # strongly cc \n",
    "        scc = strongly_connected_component_subgraphs(dG)\n",
    "        scc_list = list(scc)\n",
    "        allfiles_scc_lst.append(scc)\n",
    "        print(\"scc completed\")\n",
    "        pickle.dump(cc_list, open(file + \"_cc_list.pkl\", \"wb\"))\n",
    "        \n",
    "        # largest cc/scc\n",
    "        cc_sizes = np.argsort([g.size() for g in cc_list])\n",
    "        largset_cc_pos = cc_sizes[-1]\t\t\n",
    "        largest_cc = cc_list[largset_cc_pos]\n",
    "        allfiles_largest_cc_lst.append(largest_cc)\n",
    "        print(\"largest cc completed\")\n",
    "        \n",
    "        scc_sizes = np.argsort([g.size() for g in scc_list])\n",
    "        largset_scc_pos = scc_sizes[-1]\t\t\n",
    "        largest_scc = scc_list[largset_scc_pos]\n",
    "        allfiles_largest_scc_lst.append(largest_scc)\n",
    "        print(\"largest scc completed\")\n",
    "        \n",
    "        # largest cc/scc len\n",
    "        largest_cc_len = len(largest_cc)\n",
    "        allfiles_largest_cc_len_lst.append(largest_cc_len)\n",
    "        print(\"largest cc len completed\")\n",
    "        \n",
    "        largest_scc_len = len(largest_scc)\n",
    "        allfiles_largest_scc_len_lst.append(largest_scc_len)\n",
    "        print(\"largest scc len completed\")\n",
    "        \n",
    "        largest_cc_mat = nx.all_pairs_shortest_path_length(largest_cc)\n",
    "        \n",
    "        pickle.dump(largest_cc_mat, open(file + \"_mat_cc.pkl\", \"wb\"))\n",
    "        largest_scc_mat = nx.all_pairs_shortest_path_length(largest_scc)\n",
    "        pickle.dump(largest_cc_mat, open(file + \"_mat_scc.pkl\", \"wb\"))\n",
    "        end_time = time.time()\n",
    "        run_time = start_time-end_time\n",
    "        allfiles_timing_lst.append(run_time)\n",
    "        print(file, \" - \", run_time)\n",
    "        "
   ]
  },
  {
   "cell_type": "code",
   "execution_count": 26,
   "metadata": {},
   "outputs": [
    {
     "name": "stdout",
     "output_type": "stream",
     "text": [
      "cc completed\n"
     ]
    },
    {
     "name": "stdout",
     "output_type": "stream",
     "text": [
      "scc completed\nlargest cc completed\nlargest scc completed\nlargest cc len completed\nlargest scc len completed\n"
     ]
    }
   ],
   "source": [
    "fh = open(graph_files[0], \"rb\")\n",
    "dG = nx.read_adjlist(fh, create_using=nx.DiGraph())\n",
    "# conversion to undirected graph\n",
    "G = dG.to_undirected()\n",
    "\n",
    "# weakly cc\n",
    "cc = connected_component_subgraphs(G)\n",
    "cc_list = list(cc)\n",
    "allfiles_cc_lst.append(cc)\t\t\n",
    "print(\"cc completed\")\n",
    "pickle.dump(cc_list, open(file + \"_cc_list.pkl\", \"wb\"))\n",
    "\n",
    "# strongly cc \n",
    "scc = strongly_connected_component_subgraphs(dG)\n",
    "scc_list = list(scc)\n",
    "allfiles_scc_lst.append(scc)\n",
    "print(\"scc completed\")\n",
    "pickle.dump(cc_list, open(file + \"_cc_list.pkl\", \"wb\"))\n",
    "\n",
    "# largest cc/scc\n",
    "cc_sizes = np.argsort([g.size() for g in cc_list])\n",
    "largset_cc_pos = cc_sizes[-1]\t\t\n",
    "largest_cc = cc_list[largset_cc_pos]\n",
    "allfiles_largest_cc_lst.append(largest_cc)\n",
    "print(\"largest cc completed\")\n",
    "\n",
    "scc_sizes = np.argsort([g.size() for g in scc_list])\n",
    "largset_scc_pos = scc_sizes[-1]\t\t\n",
    "largest_scc = scc_list[largset_scc_pos]\n",
    "allfiles_largest_scc_lst.append(largest_scc)\n",
    "print(\"largest scc completed\")\n",
    "\n",
    "# largest cc/scc len\n",
    "largest_cc_len = len(largest_cc)\n",
    "allfiles_largest_cc_len_lst.append(largest_cc_len)\n",
    "print(\"largest cc len completed\")\n",
    "\n",
    "largest_scc_len = len(largest_scc)\n",
    "allfiles_largest_scc_len_lst.append(largest_scc_len)\n",
    "print(\"largest scc len completed\")\n",
    "\n"
   ]
  },
  {
   "cell_type": "code",
   "execution_count": 33,
   "metadata": {},
   "outputs": [],
   "source": [
    "largest_cc_mat = list(nx.all_pairs_shortest_path_length(largest_cc))\n",
    "pickle.dump(largest_cc_mat, open(file + \"_mat_cc.pkl\", \"wb\"))\n",
    "largest_scc_mat = list(nx.all_pairs_shortest_path_length(largest_scc))\n",
    "pickle.dump(largest_cc_mat, open(file + \"_mat_scc.pkl\", \"wb\"))"
   ]
  },
  {
   "cell_type": "code",
   "execution_count": 55,
   "metadata": {},
   "outputs": [],
   "source": [
    ""
   ]
  },
  {
   "cell_type": "code",
   "execution_count": 57,
   "metadata": {},
   "outputs": [],
   "source": [
    "distribution = get_distribution_lst(largest_scc_mat)\n",
    "diameter = diameter(distribution)\n",
    "eff_diameter = eff_diam(distribution)"
   ]
  },
  {
   "cell_type": "code",
   "execution_count": 59,
   "metadata": {},
   "outputs": [
    {
     "name": "stdout",
     "output_type": "stream",
     "text": [
      "9\n4.0\n"
     ]
    }
   ],
   "source": [
    "print(diameter)\n",
    "print(eff_diameter)"
   ]
  },
  {
   "cell_type": "code",
   "execution_count": null,
   "metadata": {},
   "outputs": [],
   "source": []
  }
 ],
 "metadata": {
  "kernelspec": {
   "display_name": "Python 2",
   "language": "python",
   "name": "python2"
  },
  "language_info": {
   "codemirror_mode": {
    "name": "ipython",
    "version": 2
   },
   "file_extension": ".py",
   "mimetype": "text/x-python",
   "name": "python",
   "nbconvert_exporter": "python",
   "pygments_lexer": "ipython2",
   "version": "2.7.6"
  }
 },
 "nbformat": 4,
 "nbformat_minor": 0
}
