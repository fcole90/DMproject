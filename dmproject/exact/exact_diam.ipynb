{
 "cells": [
  {
   "cell_type": "code",
   "execution_count": 3,
   "metadata": {},
   "outputs": [],
   "source": [
    "%reload_ext autoreload\n",
    "%autoreload 2\n",
    "\n",
    "import networkx as nx\n",
    "import numpy as np\n",
    "import matplotlib.pyplot as plt\n",
    "from networkx.algorithms.components import strongly_connected_component_subgraphs\n",
    "from networkx.algorithms.components import connected_component_subgraphs\n",
    "import timeit\n",
    "import os\n",
    "\n",
    "#workdir = \"/home/michele/aalto/dm/DMproject/dmproject/exact\"\n",
    "#workdir = \"/u/08/colellf1/unix/dm/DMproject/dmproject/exact\"\n",
    "workdir = \"/home/jovyan/DMproject/dmproject/exact\"\n",
    "\n",
    "# utildir = '/home/michele/aalto/dm/DMproject/dmproject/utils'\n",
    "# utildir = \"/u/08/colellf1/unix/dm/DMproject/dmproject/utils\"\n",
    "utildir = \"/home/jovyan/DMproject/dmproject/utils\"\n",
    "\n",
    "if(os.curdir != workdir):\n",
    "    os.chdir(workdir)\n",
    "\n",
    "import sys\n",
    "sys.path.insert(0, utildir)\n",
    "\n",
    "import utils\n",
    "import pickle\n",
    "import time"
   ]
  },
  {
   "cell_type": "code",
   "execution_count": 9,
   "metadata": {},
   "outputs": [],
   "source": [
    "graph_files = []\n",
    "# graph_files.append(os.path.join(os.path.pardir, 'dataset', 'wiki_vote', 'Wiki-Vote.txt'))\n",
    "# graph_files.append(os.path.join(os.path.pardir, 'dataset', 'epinions', 'soc-Epinions1.txt'))\n",
    "graph_files.append(os.path.join(os.path.pardir, 'dataset', 'gplus', 'gplus_combined.txt'))\n",
    "# graph_files.append(os.path.join(os.path.pardir, 'dataset', 'soc_pokec', 'soc-pokec-relationships.txt'))\n",
    "graph_names = [\n",
    "#     \"wikivote\", \n",
    "#     \"epinions\", \n",
    "    \"gplus\"]  #, \n",
    "#     \"pokec\"]"
   ]
  },
  {
   "cell_type": "code",
   "execution_count": null,
   "metadata": {},
   "outputs": [],
   "source": [
    "allfiles_cc_lst = []\n",
    "allfiles_scc_lst = []\n",
    "allfiles_largest_cc_lst = []\n",
    "allfiles_largest_scc_lst = []\n",
    "allfiles_largest_cc_len_lst = []\n",
    "allfiles_largest_scc_len_lst = []\n",
    "allfiles_largest_cc_diam_lst = []\n",
    "allfiles_largest_scc_diam_lst = []\n",
    "allfiles_timing_lst = []\n",
    "allfiles_timing_cc_lst = []\n",
    "allfiles_timing_scc_lst = []\n",
    "allfiles_cc_stats = []\n",
    "allfiles_scc_stats = []\n",
    "\n",
    "for file, graphname in zip(graph_files, graph_names):\n",
    "    with open(file, \"rb\") as fh:\n",
    "        start_time = time.time()\n",
    "        # import of directed\n",
    "        dG = nx.read_adjlist(fh, create_using=nx.DiGraph())\n",
    "        # conversion to undirected graph\n",
    "        G = dG.to_undirected()\n",
    "        \n",
    "        cc_lst, _ = utils.load_or_do(graphname+\"_cc_list.pkl\", True, utils.get_cc, G)\n",
    "        allfiles_cc_lst.append(cc_lst)\n",
    "        scc_lst, _ = utils.load_or_do(graphname+\"_scc_list.pkl\", True, utils.get_scc, dG) \n",
    "        allfiles_scc_lst.append(scc_lst)\n",
    "        \n",
    "        largest_cc, _ = utils.load_or_do(graphname+\"_largest_cc.pkl\", True, utils.get_largest_cc, cc_lst)\n",
    "        allfiles_largest_cc_lst.append(largest_cc)\n",
    "        largest_scc, _ = utils.load_or_do(graphname+\"_largest_scc.pkl\", True, utils.get_largest_cc, scc_lst)\n",
    "        allfiles_largest_cc_lst.append(largest_scc)\n",
    "        \n",
    "        # largest cc/scc len\n",
    "        largest_cc_len = len(largest_cc)\n",
    "        allfiles_largest_cc_len_lst.append(largest_cc_len)\n",
    "        print(\"largest cc len completed\")\n",
    "        largest_scc_len = len(largest_scc)\n",
    "        allfiles_largest_scc_len_lst.append(largest_scc_len)\n",
    "        print(\"largest scc len completed\")\n",
    "        \n",
    "        print(\"All pairs shortest path length\")\n",
    "        largest_cc_mat = nx.all_pairs_shortest_path_length(largest_cc)\n",
    "        print(\"...\")\n",
    "        largest_scc_mat = nx.all_pairs_shortest_path_length(largest_scc)\n",
    "        print(\"completed\")\n",
    "        #largest_cc_mat = utils.load_or_do(graphname + \"_mat_cc.pkl\", \"wb\", True, utils.)\n",
    "        #pickle.dump(largest_cc_mat, open(graphname + \"_mat_scc.pkl\", \"wb\"))\n",
    "        \n",
    "        print(\"Distribution of largest cc\")\n",
    "        largest_cc_distribution = utils.get_distribution_lst(largest_cc_mat)\n",
    "        largest_cc_stats = utils.get_stats(largest_cc_distribution)\n",
    "        print(graphname, \" - CC stats: \", largest_cc_stats)\n",
    "        allfiles_cc_stats.append(largest_cc_stats)\n",
    "        print(\"Distribution of largest scc\")\n",
    "        largest_scc_distribution = utils.get_distribution_lst(largest_scc_mat)\n",
    "        largest_scc_stats = utils.get_stats(largest_scc_distribution)\n",
    "        print(graphname, \" - SCC stats: \", largest_scc_stats)\n",
    "        allfiles_scc_stats.append(largest_scc_stats)  \n",
    "        \n",
    "        end_time = time.time()\n",
    "        run_time = end_time - start_time\n",
    "        allfiles_timing_lst.append(run_time)\n",
    "        print(file, \" - \", run_time)\n",
    "    break"
   ]
  },
  {
   "cell_type": "code",
   "execution_count": null,
   "metadata": {
    "collapsed": true
   },
   "outputs": [],
   "source": [
    "\n",
    "\n",
    "\n",
    "\n"
   ]
  }
 ],
 "metadata": {
  "kernelspec": {
   "display_name": "Python 3",
   "language": "python",
   "name": "python3"
  },
  "language_info": {
   "codemirror_mode": {
    "name": "ipython",
    "version": 3
   },
   "file_extension": ".py",
   "mimetype": "text/x-python",
   "name": "python",
   "nbconvert_exporter": "python",
   "pygments_lexer": "ipython3",
<<<<<<< HEAD
   "version": "3.6.2"
=======
   "version": "3.6.4"
>>>>>>> working with Julia
  }
 },
 "nbformat": 4,
 "nbformat_minor": 1
}
