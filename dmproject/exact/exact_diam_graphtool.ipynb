{
 "cells": [
  {
   "cell_type": "code",
   "execution_count": 8,
   "metadata": {
    "collapsed": true
   },
   "outputs": [],
   "source": [
    "%reload_ext autoreload\n",
    "%autoreload 2\n",
    "\n",
    "import networkx as nx\n",
    "import numpy as np\n",
    "import matplotlib.pyplot as plt\n",
    "from networkx.algorithms.components import strongly_connected_component_subgraphs\n",
    "from networkx.algorithms.components import connected_component_subgraphs\n",
    "import timeit\n",
    "import os\n",
    "import graph_tool\n",
    "\n",
    "import pickle\n",
    "import time\n",
    "\n",
    "# Fabio\n",
    "basedir = \"/home/fcole90-work/Dropbox/Aalto Macadamia/\\\n",
    "I period/AMDM - Algorithmic Methods of Data Mining/assignments/DMproject/\"\\\n",
    "    \n",
    "# # Michele\n",
    "# basedir = \"/home/michele/aalto/dm/DMproject/\"\n",
    "\n",
    "workdir = os.path.join(basedir, \"dmproject\", \"exact\")\n",
    "utilsdir = os.path.join(basedir, \"dmproject\", \"utils\")\n",
    "\n",
    "if(os.curdir != workdir):\n",
    "    os.chdir(workdir)\n",
    "\n",
    "import sys\n",
    "sys.path.insert(0, utilsdir)\n",
    "\n",
    "import utils\n",
    "\n",
    "from graph_tool.all import *"
   ]
  },
  {
   "cell_type": "code",
   "execution_count": 11,
   "metadata": {},
   "outputs": [],
   "source": [
    "graph_files = []\n",
    "graph_files.append(os.path.join(os.path.pardir, 'dataset', 'wiki_vote', 'Wiki-Vote.txt'))\n",
    "graph_files.append(os.path.join(os.path.pardir, 'dataset', 'epinions', 'soc-Epinions1.txt'))\n",
    "graph_files.append(os.path.join(os.path.pardir, 'dataset', 'gplus', 'gplus_combined.txt'))\n",
    "graph_files.append(os.path.join(os.path.pardir, 'dataset', 'soc_pokec', 'soc-pokec-relationships.txt'))\n",
    "\n",
    "graph_names = [\"wikivote\", \"epinions\", \"gplus\", \"pokec\"]\n",
    "\n",
    "graph_file = graph_files[0]\n",
    "g = Graph(directed=False)\n",
    "\n",
    "with open(graph_file, \"r\") as f:\n",
    "    for line in f.readlines():\n",
    "        \n",
    "        # Skip comments\n",
    "        if line.startswith(\"#\"):\n",
    "            continue\n",
    "        \n",
    "        edges = line.split('\\t')\n",
    "        src = int(edges[0])\n",
    "        dst = int(edges[1])\n",
    "        g.add_edge(src, dst)"
   ]
  },
  {
   "cell_type": "code",
   "execution_count": 2,
   "metadata": {},
   "outputs": [
    {
     "ename": "NameError",
     "evalue": "name 'graph_tool' is not defined",
     "output_type": "error",
     "traceback": [
      "\u001b[0;31m---------------------------------------------------------------------------\u001b[0m",
      "\u001b[0;31mNameError\u001b[0m                                 Traceback (most recent call last)",
      "\u001b[0;32m<ipython-input-2-1a98628bd475>\u001b[0m in \u001b[0;36m<module>\u001b[0;34m()\u001b[0m\n\u001b[0;32m----> 1\u001b[0;31m \u001b[0mdist\u001b[0m \u001b[0;34m=\u001b[0m \u001b[0mgraph_tool\u001b[0m\u001b[0;34m.\u001b[0m\u001b[0mtopology\u001b[0m\u001b[0;34m.\u001b[0m\u001b[0mshortest_distance\u001b[0m\u001b[0;34m(\u001b[0m\u001b[0mg\u001b[0m\u001b[0;34m)\u001b[0m\u001b[0;34m\u001b[0m\u001b[0m\n\u001b[0m",
      "\u001b[0;31mNameError\u001b[0m: name 'graph_tool' is not defined"
     ]
    }
   ],
   "source": [
    "dist = graph_tool.topology.shortest_distance(g)"
   ]
  },
  {
   "cell_type": "code",
   "execution_count": 24,
   "metadata": {},
   "outputs": [],
   "source": [
    "V = 75879\n",
    "dist_arr = dist.get_2d_array(range(V))"
   ]
  },
  {
   "cell_type": "code",
   "execution_count": 20,
   "metadata": {},
   "outputs": [
    {
     "name": "stdout",
     "output_type": "stream",
     "text": [
      "<type 'NoneType'>\n"
     ]
    }
   ],
   "source": [
    "mat = utils.get_distribtion_lst(dist_arr)"
   ]
  },
  {
   "cell_type": "code",
   "execution_count": null,
   "metadata": {},
   "outputs": [],
   "source": []
  }
 ],
 "metadata": {
  "kernelspec": {
   "display_name": "Python 2",
   "language": "python",
   "name": "python2"
  },
  "language_info": {
   "codemirror_mode": {
    "name": "ipython",
    "version": 2
   },
   "file_extension": ".py",
   "mimetype": "text/x-python",
   "name": "python",
   "nbconvert_exporter": "python",
   "pygments_lexer": "ipython2",
   "version": "2.7.14"
  }
 },
 "nbformat": 4,
 "nbformat_minor": 1
}
