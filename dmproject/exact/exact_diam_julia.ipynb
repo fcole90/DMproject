{
 "cells": [
  {
   "cell_type": "code",
   "execution_count": 4,
   "metadata": {},
   "outputs": [
    {
     "ename": "LoadError",
     "evalue": "\u001b[91m\u001b[91munknown package Filesystem\u001b[39m\nmacro expansion at ./pkg/entry.jl:53 [inlined]\n(::Base.Pkg.Entry.##1#3{String,Base.Pkg.Types.VersionSet})() at ./task.jl:335\u001b[39m",
     "output_type": "error",
     "traceback": [
      "\u001b[91m\u001b[91munknown package Filesystem\u001b[39m\nmacro expansion at ./pkg/entry.jl:53 [inlined]\n(::Base.Pkg.Entry.##1#3{String,Base.Pkg.Types.VersionSet})() at ./task.jl:335\u001b[39m",
      "",
      "Stacktrace:",
      " [1] \u001b[1msync_end\u001b[22m\u001b[22m\u001b[1m(\u001b[22m\u001b[22m\u001b[1m)\u001b[22m\u001b[22m at \u001b[1m./task.jl:287\u001b[22m\u001b[22m",
      " [2] \u001b[1mmacro expansion\u001b[22m\u001b[22m at \u001b[1m./task.jl:303\u001b[22m\u001b[22m [inlined]",
      " [3] \u001b[1madd\u001b[22m\u001b[22m\u001b[1m(\u001b[22m\u001b[22m::String, ::Base.Pkg.Types.VersionSet\u001b[1m)\u001b[22m\u001b[22m at \u001b[1m./pkg/entry.jl:51\u001b[22m\u001b[22m",
      " [4] \u001b[1m(::Base.Pkg.Dir.##4#7{Array{Any,1},Base.Pkg.Entry.#add,Tuple{String}})\u001b[22m\u001b[22m\u001b[1m(\u001b[22m\u001b[22m\u001b[1m)\u001b[22m\u001b[22m at \u001b[1m./pkg/dir.jl:36\u001b[22m\u001b[22m",
      " [5] \u001b[1mcd\u001b[22m\u001b[22m\u001b[1m(\u001b[22m\u001b[22m::Base.Pkg.Dir.##4#7{Array{Any,1},Base.Pkg.Entry.#add,Tuple{String}}, ::String\u001b[1m)\u001b[22m\u001b[22m at \u001b[1m./file.jl:70\u001b[22m\u001b[22m",
      " [6] \u001b[1m#cd#1\u001b[22m\u001b[22m\u001b[1m(\u001b[22m\u001b[22m::Array{Any,1}, ::Function, ::Function, ::String, ::Vararg{String,N} where N\u001b[1m)\u001b[22m\u001b[22m at \u001b[1m./pkg/dir.jl:36\u001b[22m\u001b[22m",
      " [7] \u001b[1madd\u001b[22m\u001b[22m\u001b[1m(\u001b[22m\u001b[22m::String\u001b[1m)\u001b[22m\u001b[22m at \u001b[1m./pkg/pkg.jl:117\u001b[22m\u001b[22m",
      " [8] \u001b[1minclude_string\u001b[22m\u001b[22m\u001b[1m(\u001b[22m\u001b[22m::String, ::String\u001b[1m)\u001b[22m\u001b[22m at \u001b[1m./loading.jl:522\u001b[22m\u001b[22m"
     ]
    }
   ],
   "source": [
    "# Check that your kernel has version Julia 0.6 at least\n",
    "\n",
    "# Install required packages if you didn't already\n",
    "Pkg.update()\n",
    "Pkg.add(\"LightGraphs\")\n",
    "Pkg.add(\"GraphIO\")\n",
    "# Pkg.add(\"StaticGraphs\")"
   ]
  },
  {
   "cell_type": "code",
   "execution_count": 1,
   "metadata": {},
   "outputs": [],
   "source": [
    "using LightGraphs\n",
    "using GraphIO\n",
    "# using StaticGraphs"
   ]
  },
  {
   "cell_type": "code",
   "execution_count": 2,
   "metadata": {},
   "outputs": [
    {
     "data": {
      "text/plain": [
       "\"/home/fabio/Dropbox/Aalto Macadamia/I period/AMDM - Algorithmic Methods of Data Mining/assignments/DMproject/dmproject/exact\""
      ]
     },
     "execution_count": 2,
     "metadata": {},
     "output_type": "execute_result"
    }
   ],
   "source": [
    "# --- Settings ---\n",
    "I_feel_epic = false  # Do you feel epic?\n",
    "use_cache = true\n",
    "\n",
    "\n",
    "# --- Paths ---\n",
    "# base workdir\n",
    "base_workdir = \"/home/fabio/Dropbox/Aalto Macadamia/I period/AMDM - Algorithmic Methods of Data Mining/assignments/DMproject/dmproject\"\n",
    "#base_workdir = \"/home/michele/aalto/dm/DMproject/dmproject\"\n",
    "\n",
    "# Star is used for string concatenation\n",
    "workdir = joinpath(base_workdir, \"exact\")"
   ]
  },
  {
   "cell_type": "code",
   "execution_count": 17,
   "metadata": {},
   "outputs": [
    {
     "data": {
      "text/plain": [
       "saveedgelist (generic function with 1 method)"
      ]
     },
     "execution_count": 17,
     "metadata": {},
     "output_type": "execute_result"
    }
   ],
   "source": [
    "# --- Utilities ---\n",
    "\n",
    "# Make a DiGraph from the largest cc\n",
    "# Adaprted from https://github.com/JuliaGraphs/GraphIO.jl/blob/master/src/edgelist.jl\n",
    "function get_largest_cc_as_graph(cc_list, original_graph, use_undirected)\n",
    "    \n",
    "    srcs = Vector{Int64}()\n",
    "    dsts = Vector{Int64}()\n",
    "    vxdict = Dict{Int,Int}()\n",
    "    if use_undirected == true\n",
    "        g = Graph()\n",
    "    else\n",
    "        g = DiGraph()\n",
    "    end\n",
    "    \n",
    "    print(\"\\tReading neighbours and creating dictionary..\")\n",
    "    for (v, src) in enumerate(cc_list)\n",
    "        # Make a conversion dictionary\n",
    "        vxdict[src] = v\n",
    "        # Add vertices to the Graph\n",
    "        add_vertex!(g)\n",
    "        for dst in out_neighbors(original_graph, src)\n",
    "            # Add only nodes belonging to the CC\n",
    "            if dst in cc_list\n",
    "                push!(srcs, src)\n",
    "                push!(dsts, dst)\n",
    "            end\n",
    "        end\n",
    "    end\n",
    "    println(\" done!\")\n",
    "    \n",
    "    # Create a new graph out of the connected components\n",
    "    print(\"\\tAdding edges..\")\n",
    "    for (u, v) in zip(srcs, dsts)\n",
    "        try add_edge!(g, vxdict[u], vxdict[v])\n",
    "        catch y\n",
    "            if isa(y, KeyError)\n",
    "                continue\n",
    "            end\n",
    "        end\n",
    "    end\n",
    "    println(\" done!\")\n",
    "    return g\n",
    "end\n",
    "\n",
    "\n",
    "# Returns a couple (largest_cc, len_largest_cc)\n",
    "function get_largest_cc(cc_list)\n",
    "    largest_cc = []\n",
    "    len_largest_cc = 0\n",
    "    \n",
    "    for cc in cc_list\n",
    "        current_cc_len = length(cc)\n",
    "        if current_cc_len > len_largest_cc\n",
    "            len_largest_cc = current_cc_len\n",
    "            largest_cc = cc\n",
    "        end\n",
    "    end\n",
    "    \n",
    "    return (largest_cc, len_largest_cc)\n",
    "end\n",
    "\n",
    "\n",
    "# Graph distribution: populates a list with shortest path distances\n",
    "function get_distribution_lst(mat, cc_list)\n",
    "    distribution = Vector{Int64}()\n",
    "    for src_node_paths_list in enumerate_paths(mat)\n",
    "        for path in src_node_paths_list\n",
    "            push!(distribution, length(path))\n",
    "        end\n",
    "    end\n",
    "    return distribution \n",
    "end\n",
    "\n",
    "\n",
    "function diameter(distribution)\n",
    "    return maximum(distribution)\n",
    "end\n",
    "\n",
    "\n",
    "function eff_diam(distribution)\n",
    "    return quantile(distribution, 0.9)\n",
    "end\n",
    "\n",
    "\n",
    "function mean_diam(distribution)\n",
    "    return mean(distribution)\n",
    "end\n",
    "\n",
    "\n",
    "function median_diam(distribution)\n",
    "    return median(distribution)\n",
    "end\n",
    "\n",
    "\n",
    "function get_stats(distribution)\n",
    "    return (diameter(distribution), \n",
    "        eff_diam(distribution), \n",
    "        mean_diam(distribution), \n",
    "        median_diam(distribution))\n",
    "end\n",
    "\n",
    "function saveedgelist(io, g)\n",
    "    g_file = open(io, \"w\")\n",
    "    for e in edges(g)   \n",
    "        write(g_file, string(e.src) * \", \" * string(e.dst) * \"\\n\")\n",
    "    end\n",
    "    close(g_file)\n",
    "end"
   ]
  },
  {
   "cell_type": "code",
   "execution_count": 4,
   "metadata": {},
   "outputs": [],
   "source": [
    "graph_files = []\n",
    "\n",
    "push!(graph_files, joinpath(base_workdir, \"dataset\", \"wiki_vote\", \"Wiki-Vote.txt\"))\n",
    "push!(graph_files, joinpath(base_workdir, \"dataset\", \"epinions\", \"soc-Epinions1.txt\"))\n",
    "push!(graph_files, joinpath(base_workdir, \"dataset\", \"gplus\", \"gplus_combined.txt\"))\n",
    "\n",
    "graph_names = [\"wikivote\", \n",
    "    \"epinions\", \n",
    "    \"gplus\"]\n",
    "\n",
    "if I_feel_epic\n",
    "    println(\"Raising epicness..\")\n",
    "    push!(graph_files, joinpath(base_workdir, \"dataset\", \"soc_pokec\", \"soc-pokec-relationships.txt\"))\n",
    "    push!(graph_names, \"pokec\")\n",
    "end"
   ]
  },
  {
   "cell_type": "code",
   "execution_count": 5,
   "metadata": {},
   "outputs": [
    {
     "data": {
      "text/plain": [
       "0-element Array{Any,1}"
      ]
     },
     "execution_count": 5,
     "metadata": {},
     "output_type": "execute_result"
    }
   ],
   "source": [
    "allfiles_cc_lst = []\n",
    "allfiles_scc_lst = []\n",
    "allfiles_largest_cc_lst = []\n",
    "allfiles_largest_scc_lst = []\n",
    "allfiles_largest_cc_len_lst = []\n",
    "allfiles_largest_scc_len_lst = []\n",
    "allfiles_largest_cc_diam_lst = []\n",
    "allfiles_largest_scc_diam_lst = []\n",
    "allfiles_timing_lst = []\n",
    "allfiles_timing_cc_lst = []\n",
    "allfiles_timing_scc_lst = []\n",
    "allfiles_cc_stats = []\n",
    "allfiles_scc_stats = []"
   ]
  },
  {
   "cell_type": "code",
   "execution_count": 19,
   "metadata": {},
   "outputs": [],
   "source": [
    "g = Graph(5)\n",
    "add_edge!(g, 1, 3)\n",
    "add_edge!(g, 5, 4)\n",
    "saveedgelist(joinpath(workdir, \"test.txt\"), g) "
   ]
  },
  {
   "cell_type": "code",
   "execution_count": 29,
   "metadata": {},
   "outputs": [
    {
     "name": "stdout",
     "output_type": "stream",
     "text": [
      "Working on wikivote\n",
      "Using cached version!\n",
      "elapsed time: 0.331632933 seconds\n",
      "\n",
      "\n",
      "Working on epinions\n",
      "Using cached version!\n",
      "elapsed time: 2.382008613 seconds\n",
      "\n",
      "\n",
      "Working on gplus\n",
      "Using cached version!\n",
      "elapsed time: 83.672779119 seconds\n",
      "\n",
      "\n"
     ]
    }
   ],
   "source": [
    "# --- Loop ---\n",
    "for (filename, graphname) in zip(graph_files, graph_names)\n",
    "    println(\"Working on \", graphname)\n",
    "    \n",
    "    # Defining cache name format\n",
    "    cache_graph_name_prefix = \"jl_adj_list_\"\n",
    "    cache_cc_name = cache_graph_name_prefix * graphname * \"_cc.txt\"\n",
    "    cache_scc_name = cache_graph_name_prefix * graphname * \"_scc.txt\"\n",
    "    \n",
    "    # Check availability of edge list for largest CC or compute it\n",
    "    if use_cache == true && isfile(joinpath(workdir, cache_cc_name))\n",
    "        println(\"Using cached version!\")\n",
    "        largest_cc = Graph(loadgraph(cache_cc_name, \"\", EdgeListFormat()))\n",
    "        saveedgelist(joinpath(workdir, \"readable_\" * cache_cc_name), largest_cc)        \n",
    "    else\n",
    "        println(\"Generating largest CC graph..\")\n",
    "        # Load graph\n",
    "        G = Graph(loadgraph(filename, \"\", EdgeListFormat()))\n",
    "        tic()\n",
    "        cc_lst = connected_components(G)\n",
    "        # Get the largest connected component (as a list of nodes)\n",
    "        (largest_cc_as_list, largest_cc_len) = get_largest_cc(cc_lst)\n",
    "        println(\"largest cc len completed\")\n",
    "        println(\"Largest CC len: \", largest_cc_len)\n",
    "        # Convert the graph for cc to undirected\n",
    "        largest_cc = get_largest_cc_as_graph(largest_cc_as_list, G, true)\n",
    "        toc()\n",
    "        println(\"Graph creation completed!\")\n",
    "        saveedgelist(joinpath(workdir, \"readable_\" * cache_cc_name), largest_cc)\n",
    "    end\n",
    "    \n",
    "    # Check availability of edge list for largest SCC or compute it\n",
    "    if use_cache == true && isfile(joinpath(workdir, cache_scc_name))\n",
    "        largest_scc = loadgraph(cache_scc_name, \"\", EdgeListFormat())\n",
    "        saveedgelist(joinpath(workdir, \"readable_\" * cache_scc_name), largest_scc)        \n",
    "    else\n",
    "        println(\"Generating largest SCC graph..\")\n",
    "        # Load graph\n",
    "        dG = loadgraph(filename, \"\", EdgeListFormat())\n",
    "        tic()\n",
    "        scc_lst = strongly_connected_components(dG)\n",
    "        # Get the largest connected component (as a list of nodes)\n",
    "        (largest_scc_as_list, largest_scc_len) = get_largest_cc(scc_lst)\n",
    "        println(\"largest scc len completed\")\n",
    "        println(\"Largest SCC len: \", largest_scc_len)\n",
    "        largest_scc = get_largest_cc_as_graph(largest_scc_as_list, dG, false)\n",
    "        toc()\n",
    "        println(\"Graph creation completed!\")\n",
    "        saveedgelist(joinpath(workdir, \"readable_\" * cache_scc_name), largest_scc)\n",
    "    end\n",
    "    \n",
    "    \n",
    "    # Compute the all pairs shortest path\n",
    "    println(\"All pairs shortest path length\")\n",
    "    \n",
    "    largest_cc_mat = floyd_warshall_shortest_paths(largest_cc)\n",
    "    println(\"Completed cc!\")\n",
    "    \n",
    "    largest_scc_mat = floyd_warshall_shortest_paths(largest_scc)\n",
    "    println(\"Completed scc!\")\n",
    "        \n",
    "    \n",
    "    # Compute largest SCC distribution\n",
    "    println(\"Distribution of largest scc\")\n",
    "    largest_scc_distribution = get_distribution_lst(largest_scc_mat, vertices(largest_scc))\n",
    "    largest_scc_stats = get_stats(largest_scc_distribution)\n",
    "    println(graphname, \" - SCC stats: \", largest_scc_stats)\n",
    "    \n",
    "    # Compute largest CC distribution\n",
    "    println(\"Distribution of largest cc\")\n",
    "    largest_cc_distribution = get_distribution_lst(largest_cc_mat, vertices(largest_cc))\n",
    "    largest_cc_stats = get_stats(largest_cc_distribution)\n",
    "    println(graphname, \" - CC stats: \", largest_cc_stats)\n",
    "    \n",
    "    toc()  # print time from tic()\n",
    "    println(\"\\n\")\n",
    "end"
   ]
  },
  {
   "cell_type": "code",
   "execution_count": null,
   "metadata": {},
   "outputs": [],
   "source": []
  }
 ],
 "metadata": {
  "kernelspec": {
   "display_name": "Julia 0.6.2",
   "language": "julia",
   "name": "julia-0.6"
  },
  "language_info": {
   "file_extension": ".jl",
   "mimetype": "application/julia",
   "name": "julia",
   "version": "0.6.2"
  }
 },
 "nbformat": 4,
 "nbformat_minor": 2
}
