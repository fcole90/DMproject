{
 "cells": [
  {
   "cell_type": "code",
   "execution_count": 1,
   "metadata": {},
   "outputs": [
    {
     "data": {
      "text/plain": [
       "\"/home/fabio/Dropbox/Aalto Macadamia/I period/AMDM - Algorithmic Methods of Data Mining/assignments/DMproject/dmproject/exact\""
      ]
     },
     "execution_count": 1,
     "metadata": {},
     "output_type": "execute_result"
    }
   ],
   "source": [
    "\n",
    "# base workdir\n",
    "base_workdir = \"/home/fabio/Dropbox/Aalto Macadamia/I period/AMDM - Algorithmic Methods of Data Mining/assignments/DMproject/dmproject\"\n",
    "#base_workdir = \"/home/michele/aalto/dm/DMproject/dmproject\"\n",
    "\n",
    "workdir = base_workdir * \"/exact\"\n",
    "\n",
    "\n",
    "\n",
    "\n",
    "# open(\"sherlock-holmes\") do f\n",
    "#     # do stuff with the open file\n",
    "#  end"
   ]
  },
  {
   "cell_type": "code",
   "execution_count": 21,
   "metadata": {},
   "outputs": [
    {
     "data": {
      "text/plain": [
       "4-element Array{ASCIIString,1}:\n",
       " \"wikivote\"\n",
       " \"epinions\"\n",
       " \"gplus\"   \n",
       " \"pokec\"   "
      ]
     },
     "execution_count": 21,
     "metadata": {},
     "output_type": "execute_result"
    }
   ],
   "source": [
    "graph_files = []\n",
    "\n",
    "push!(graph_files, base_workdir * \"/dataset\" * \"/wiki_vote\" * \"/Wiki-Vote.txt\")\n",
    "push!(graph_files, base_workdir * \"/dataset\" * \"/epinions\" * \"/soc-Epinions1.txt\")\n",
    "push!(graph_files, base_workdir * \"/dataset\" * \"/gplus\" * \"/gplus_combined.txt\")\n",
    "push!(graph_files, base_workdir * \"/dataset\" * \"/soc_pokec\" * \"/soc-pokec-relationships.txt\")\n",
    "\n",
    "graph_names = [\"wikivote\", \"epinions\", \"gplus\", \"pokec\"]"
   ]
  },
  {
   "cell_type": "code",
   "execution_count": 23,
   "metadata": {},
   "outputs": [
    {
     "data": {
      "text/plain": [
       "\"/home/fabio/Dropbox/Aalto Macadamia/I period/AMDM - Algorithmic Methods of Data Mining/assignments/DMproject/dmproject/dataset/wiki_vote/Wiki-Vote.txt\""
      ]
     },
     "execution_count": 23,
     "metadata": {},
     "output_type": "execute_result"
    }
   ],
   "source": [
    "# Warning: Julia starts counting arrays from 1!\n",
    "graphname = graph_names[1]\n",
    "current_file = graph_files[1]"
   ]
  }
 ],
 "metadata": {
  "kernelspec": {
   "display_name": "Julia 0.4.7",
   "language": "julia",
   "name": "julia-0.4"
  },
  "language_info": {
   "file_extension": ".jl",
   "mimetype": "application/julia",
   "name": "julia",
   "version": "0.4.7"
  }
 },
 "nbformat": 4,
 "nbformat_minor": 2
}
