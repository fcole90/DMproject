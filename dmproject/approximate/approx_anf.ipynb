{
 "cells": [
  {
   "cell_type": "code",
   "execution_count": 2,
   "metadata": {},
   "outputs": [],
   "source": [
    "%reload_ext autoreload\n",
    "%autoreload 2\n",
    "\n",
    "import networkx as nx\n",
    "import numpy as np\n",
    "import matplotlib.pyplot as plt\n",
    "from networkx.algorithms.components import strongly_connected_component_subgraphs\n",
    "from networkx.algorithms.components import connected_component_subgraphs\n",
    "import timeit\n",
    "import os\n",
    "from bitarray import bitarray\n",
    "\n",
    "import pickle\n",
    "import time\n",
    "\n",
    "workdir = \"/home/michele/aalto/dm/DMproject/dmproject/approximate\"\n",
    "if(os.curdir != workdir):\n",
    "    os.chdir(\"/home/michele/aalto/dm/DMproject/dmproject/approximate\")\n",
    "\n",
    "import sys\n",
    "sys.path.insert(0, '/home/michele/aalto/dm/DMproject/dmproject/utils')\n",
    "\n",
    "import utils\n",
    "graph_names = [\"wikivote\", \"epinions\", \"gplus\", \"pokec\"]"
   ]
  },
  {
   "cell_type": "code",
   "execution_count": 5,
   "metadata": {},
   "outputs": [
    {
     "name": "stdout",
     "output_type": "stream",
     "text": [
      "graph gplusloaded\n(69501, 4, 10, 21)\n"
     ]
    },
    {
     "name": "stdout",
     "output_type": "stream",
     "text": [
      "1\n"
     ]
    },
    {
     "name": "stdout",
     "output_type": "stream",
     "text": [
      "2\n"
     ]
    },
    {
     "ename": "KeyboardInterrupt",
     "evalue": "",
     "traceback": [
      "\u001b[0;31m---------------------------------------------------------------------------\u001b[0m",
      "\u001b[0;31mKeyboardInterrupt\u001b[0m                         Traceback (most recent call last)",
      "\u001b[0;32m<ipython-input-5-e456a5a2a516>\u001b[0m in \u001b[0;36m<module>\u001b[0;34m()\u001b[0m\n\u001b[1;32m     60\u001b[0m                         \u001b[0mtmp_m\u001b[0m \u001b[0;34m=\u001b[0m \u001b[0mbitarray\u001b[0m\u001b[0;34m(\u001b[0m\u001b[0mbitmap\u001b[0m\u001b[0;34m[\u001b[0m\u001b[0mm\u001b[0m\u001b[0;34m,\u001b[0m \u001b[0mi\u001b[0m\u001b[0;34m,\u001b[0m \u001b[0mh\u001b[0m\u001b[0;34m-\u001b[0m\u001b[0;36m1\u001b[0m\u001b[0;34m]\u001b[0m\u001b[0;34m.\u001b[0m\u001b[0mtolist\u001b[0m\u001b[0;34m(\u001b[0m\u001b[0;34m)\u001b[0m\u001b[0;34m)\u001b[0m\u001b[0;34m\u001b[0m\u001b[0m\n\u001b[1;32m     61\u001b[0m                         \u001b[0;32mfor\u001b[0m \u001b[0mb\u001b[0m \u001b[0;32min\u001b[0m \u001b[0mrange\u001b[0m\u001b[0;34m(\u001b[0m\u001b[0ml\u001b[0m\u001b[0;34m)\u001b[0m\u001b[0;34m:\u001b[0m\u001b[0;34m\u001b[0m\u001b[0m\n\u001b[0;32m---> 62\u001b[0;31m                             \u001b[0mbitmap\u001b[0m\u001b[0;34m[\u001b[0m\u001b[0mn\u001b[0m\u001b[0;34m,\u001b[0m \u001b[0mi\u001b[0m\u001b[0;34m,\u001b[0m \u001b[0mh\u001b[0m\u001b[0;34m,\u001b[0m \u001b[0mb\u001b[0m\u001b[0;34m]\u001b[0m \u001b[0;34m=\u001b[0m \u001b[0mtmp_n\u001b[0m\u001b[0;34m[\u001b[0m\u001b[0mb\u001b[0m\u001b[0;34m]\u001b[0m \u001b[0;32mor\u001b[0m \u001b[0mtmp_m\u001b[0m\u001b[0;34m[\u001b[0m\u001b[0mb\u001b[0m\u001b[0;34m]\u001b[0m\u001b[0;34m\u001b[0m\u001b[0m\n\u001b[0m\u001b[1;32m     63\u001b[0m \u001b[0;34m\u001b[0m\u001b[0m\n\u001b[1;32m     64\u001b[0m         \u001b[0;32mfor\u001b[0m \u001b[0mnode\u001b[0m \u001b[0;32min\u001b[0m \u001b[0mindex_node_dict\u001b[0m\u001b[0;34m:\u001b[0m\u001b[0;34m\u001b[0m\u001b[0m\n",
      "\u001b[0;31mKeyboardInterrupt\u001b[0m: "
     ],
     "output_type": "error"
    }
   ],
   "source": [
    "graph_files = []\n",
    "graph_files.append(os.path.join(os.path.pardir, 'dataset', 'wiki_vote', graph_names[0] + '_cc.edgelist'))\n",
    "graph_files.append(os.path.join(os.path.pardir, 'dataset', 'epinions', graph_names[1] + '_cc.edgelist'))\n",
    "graph_files.append(os.path.join(os.path.pardir, 'dataset', 'gplus', graph_names[2] + '_cc.edgelist'))\n",
    "graph_files.append(os.path.join(os.path.pardir, 'dataset', 'soc_pokec', graph_names[3] + '_cc.edgelist'))\n",
    "\n",
    "np.random.seed(132435)\n",
    "p_samples = [5, 10, 15, 20]\n",
    "n_repetitions = [3, 5, 7]\n",
    "\n",
    "\n",
    "stats_cc_g = []\n",
    "for graph_file, graph_name in zip(graph_files[2:3], graph_names[2:3]):\n",
    "    #graph_file = graph_files[0]\n",
    "    #graph_name = graph_names[0]\n",
    "    k = 4\n",
    "    r = 10\n",
    "    h_max = 10\n",
    "    \n",
    "    G = nx.read_adjlist(graph_file, create_using=nx.Graph())\n",
    "    print(\"graph \" + graph_name + \"loaded\")\n",
    "    n = len(G.nodes)\n",
    "    selected_nodes = utils.reservoir_sampling_nodes(G, [1], [n], False)[0][0][0]\n",
    "    \n",
    "    l = int(np.log(n))+r\n",
    "    bitmap = np.ndarray((len(selected_nodes), k, h_max, l), dtype=int)\n",
    "    \n",
    "    \n",
    "    index_node_dict = dict()\n",
    "    for n, node in enumerate(selected_nodes):\n",
    "        index_node_dict[node] = n\n",
    "    \n",
    "    \n",
    "    print(bitmap.shape)\n",
    "    inf_map = np.zeros((len(selected_nodes), h_max))\n",
    "    \n",
    "    for node in index_node_dict:\n",
    "        M = bitarray()\n",
    "        for i in range(k):\n",
    "            a = bitarray()\n",
    "            for j in range(l):\n",
    "                prob = 1.0/(2**(j+1))\n",
    "                if np.random.random() < prob:\n",
    "                    a.append(True)\n",
    "                else:\n",
    "                    a.append(False)\n",
    "            for b in range(len(a)):\n",
    "                bitmap[index_node_dict[node], i, 0, b] = a[b]\n",
    "        \n",
    "    for h in range(1,h_max):\n",
    "        for node in index_node_dict:\n",
    "            n = index_node_dict[node]\n",
    "            for i in range(k):\n",
    "                bitmap[n, i, h] = bitmap[n, i, h-1] \n",
    "            for neighbor in G.neighbors(node):\n",
    "                if neighbor in index_node_dict:\n",
    "                    m = index_node_dict[neighbor]\n",
    "                    for i in range(k):\n",
    "                        tmp_n = bitarray(bitmap[n, i, h].tolist())\n",
    "                        tmp_m = bitarray(bitmap[m, i, h-1].tolist())\n",
    "                        for b in range(l):\n",
    "                            bitmap[n, i, h, b] = tmp_n[b] or tmp_m[b]\n",
    "                    \n",
    "        for node in index_node_dict:\n",
    "            n = index_node_dict[node]\n",
    "            avg_b = 0\n",
    "            for i in range(k):\n",
    "                try:\n",
    "                    b = bitarray(bitmap[n, i, h].tolist()).index(False)\n",
    "                except ValueError:\n",
    "                    b = l\n",
    "                avg_b += b\n",
    "            avg_b = avg_b/float(k)\n",
    "            individual_neighborhood_f = (2**b)/0.77351\n",
    "            inf_map[n, h] = individual_neighborhood_f\n",
    "        \n",
    "        # check if we have to terminate the computation\n",
    "        for node in index_node_dict:\n",
    "            n = index_node_dict[node]\n",
    "            terminate = True\n",
    "            if inf_map[n,h] >= inf_map[n,h-1]-0.1 and inf_map[n,h] <= inf_map[n,h-1]+0.1:\n",
    "                terminate = terminate and True\n",
    "            else:\n",
    "                terminate = terminate and False\n",
    "        \n",
    "        if terminate:\n",
    "            break\n",
    "        print(h)\n",
    "        \n",
    "    \n"
   ]
  },
  {
   "cell_type": "code",
   "execution_count": 55,
   "metadata": {},
   "outputs": [],
   "source": [
    "#for i in range(len(selected_nodes)):\n",
    "#    for j in range(h_max):\n",
    "np.set_printoptions(formatter={'float': lambda x: \"{0:0.3f}\".format(x)}, threshold=sys.maxsize)        \n",
    "\n",
    "with open(\"output.txt\", \"w\") as f:\n",
    "    f.write(str(inf_map))"
   ]
  },
  {
   "cell_type": "code",
   "execution_count": null,
   "metadata": {},
   "outputs": [],
   "source": []
  }
 ],
 "metadata": {
  "kernelspec": {
   "display_name": "Python 3",
   "language": "python",
   "name": "python3"
  },
  "language_info": {
   "codemirror_mode": {
    "name": "ipython",
    "version": 3
   },
   "file_extension": ".py",
   "mimetype": "text/x-python",
   "name": "python",
   "nbconvert_exporter": "python",
   "pygments_lexer": "ipython3",
   "version": "3.5.3"
  }
 },
 "nbformat": 4,
 "nbformat_minor": 2
}
