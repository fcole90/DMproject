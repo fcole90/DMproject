{
 "cells": [
  {
   "cell_type": "code",
   "execution_count": 1,
   "metadata": {
    "collapsed": true
   },
   "outputs": [],
   "source": [
    "# Please run `jupyter notebook` from the folder in which is this file (it uses getcwd()!)\n",
    "%reload_ext autoreload\n",
    "%autoreload 2\n",
    "\n",
    "import networkx as nx\n",
    "import numpy as np\n",
    "from networkx.algorithms.components import strongly_connected_component_subgraphs\n",
    "from networkx.algorithms.components import connected_component_subgraphs\n",
    "import timeit\n",
    "import os\n",
    "\n",
    "workdir = os.getcwd()\n",
    "utildir = os.path.join(workdir, os.path.pardir, \"utils\")\n",
    "\n",
    "if(os.curdir != workdir):\n",
    "    os.chdir(workdir)\n",
    "\n",
    "import sys\n",
    "sys.path.insert(0, utildir)\n",
    "\n",
    "import utils\n",
    "import pickle\n",
    "import time\n",
    "graph_names = [\"wikivote\", \"epinions\", \"gplus\", \"pokec\"]"
   ]
  },
  {
   "cell_type": "code",
   "execution_count": 2,
   "metadata": {
    "collapsed": true
   },
   "outputs": [
    {
     "name": "stdout",
     "output_type": "stream",
     "text": [
      "graph gplusloaded\n",
      "[[5.0, 2.8433799204549679, 3.0, 3.0], [5.0, 2.8433799204549679, 3.0, 3.0], [5.0, 2.8433799204549679, 3.0, 3.0]]\n",
      "[[5.0, 2.8553547781562032, 3.0, 3.0], [5.0, 2.8553547781562036, 3.0, 3.0], [5.0, 2.8553547781562041, 3.0, 3.0]]\n",
      "[[5.0, 2.8680500958735649, 3.0, 3.0], [5.0, 2.8680500958735644, 3.0, 3.0], [5.0, 2.868050095873564, 3.0, 3.0]]\n"
     ]
    },
    {
     "ename": "KeyboardInterrupt",
     "evalue": "",
     "output_type": "error",
     "traceback": [
      "\u001b[0;31m---------------------------------------------------------------------------\u001b[0m",
      "\u001b[0;31mKeyboardInterrupt\u001b[0m                         Traceback (most recent call last)",
      "\u001b[0;32m<ipython-input-2-a6b051fc31a0>\u001b[0m in \u001b[0;36m<module>\u001b[0;34m()\u001b[0m\n\u001b[1;32m     23\u001b[0m             \u001b[0;32mfor\u001b[0m \u001b[0mh\u001b[0m \u001b[0;32min\u001b[0m \u001b[0mrange\u001b[0m\u001b[0;34m(\u001b[0m\u001b[0mn\u001b[0m\u001b[0;34m)\u001b[0m\u001b[0;34m:\u001b[0m\u001b[0;34m\u001b[0m\u001b[0m\n\u001b[1;32m     24\u001b[0m                 \u001b[0mselected_nodes_cc\u001b[0m \u001b[0;34m=\u001b[0m \u001b[0mmatrix_cc\u001b[0m\u001b[0;34m[\u001b[0m\u001b[0mi\u001b[0m\u001b[0;34m]\u001b[0m\u001b[0;34m[\u001b[0m\u001b[0mj\u001b[0m\u001b[0;34m]\u001b[0m\u001b[0;34m[\u001b[0m\u001b[0mh\u001b[0m\u001b[0;34m]\u001b[0m\u001b[0;34m\u001b[0m\u001b[0m\n\u001b[0;32m---> 25\u001b[0;31m                 \u001b[0mcc_mat\u001b[0m \u001b[0;34m=\u001b[0m \u001b[0mutils\u001b[0m\u001b[0;34m.\u001b[0m\u001b[0mall_pairs_shortest_path_bfs\u001b[0m\u001b[0;34m(\u001b[0m\u001b[0mG\u001b[0m\u001b[0;34m,\u001b[0m \u001b[0mselected_nodes_cc\u001b[0m\u001b[0;34m)\u001b[0m\u001b[0;34m\u001b[0m\u001b[0m\n\u001b[0m\u001b[1;32m     26\u001b[0m                 \u001b[0mstats_cc\u001b[0m \u001b[0;34m=\u001b[0m \u001b[0mutils\u001b[0m\u001b[0;34m.\u001b[0m\u001b[0mget_stats_bfs\u001b[0m\u001b[0;34m(\u001b[0m\u001b[0mcc_mat\u001b[0m\u001b[0;34m)\u001b[0m\u001b[0;34m\u001b[0m\u001b[0m\n\u001b[1;32m     27\u001b[0m                 \u001b[0mstats_cc_n\u001b[0m\u001b[0;34m.\u001b[0m\u001b[0mappend\u001b[0m\u001b[0;34m(\u001b[0m\u001b[0mstats_cc\u001b[0m\u001b[0;34m)\u001b[0m\u001b[0;34m\u001b[0m\u001b[0m\n",
      "\u001b[0;32m/home/michele/aalto/dm/DMproject/dmproject/utils/utils.pyc\u001b[0m in \u001b[0;36mall_pairs_shortest_path_bfs\u001b[0;34m(G, selected_nodes)\u001b[0m\n\u001b[1;32m    257\u001b[0m     \u001b[0;32mfor\u001b[0m \u001b[0mnode\u001b[0m \u001b[0;32min\u001b[0m \u001b[0mselected_nodes\u001b[0m\u001b[0;34m:\u001b[0m\u001b[0;34m\u001b[0m\u001b[0m\n\u001b[1;32m    258\u001b[0m         \u001b[0;31m#print(\"started\")\u001b[0m\u001b[0;34m\u001b[0m\u001b[0;34m\u001b[0m\u001b[0m\n\u001b[0;32m--> 259\u001b[0;31m         \u001b[0mshortest_path_len\u001b[0m \u001b[0;34m=\u001b[0m \u001b[0mnx\u001b[0m\u001b[0;34m.\u001b[0m\u001b[0msingle_source_shortest_path_length\u001b[0m\u001b[0;34m(\u001b[0m\u001b[0mG\u001b[0m\u001b[0;34m,\u001b[0m \u001b[0mnode\u001b[0m\u001b[0;34m)\u001b[0m\u001b[0;34m\u001b[0m\u001b[0m\n\u001b[0m\u001b[1;32m    260\u001b[0m         \u001b[0;31m#print(\"finished\")\u001b[0m\u001b[0;34m\u001b[0m\u001b[0;34m\u001b[0m\u001b[0m\n\u001b[1;32m    261\u001b[0m         \u001b[0mshortest_path_mat\u001b[0m\u001b[0;34m.\u001b[0m\u001b[0mappend\u001b[0m\u001b[0;34m(\u001b[0m\u001b[0;34m(\u001b[0m\u001b[0mnode\u001b[0m\u001b[0;34m,\u001b[0m \u001b[0mshortest_path_len\u001b[0m\u001b[0;34m)\u001b[0m\u001b[0;34m)\u001b[0m\u001b[0;34m\u001b[0m\u001b[0m\n",
      "\u001b[0;32m/usr/local/lib/python2.7/dist-packages/networkx/algorithms/shortest_paths/unweighted.pyc\u001b[0m in \u001b[0;36msingle_source_shortest_path_length\u001b[0;34m(G, source, cutoff)\u001b[0m\n\u001b[1;32m     64\u001b[0m         \u001b[0mcutoff\u001b[0m \u001b[0;34m=\u001b[0m \u001b[0mfloat\u001b[0m\u001b[0;34m(\u001b[0m\u001b[0;34m'inf'\u001b[0m\u001b[0;34m)\u001b[0m\u001b[0;34m\u001b[0m\u001b[0m\n\u001b[1;32m     65\u001b[0m     \u001b[0mnextlevel\u001b[0m \u001b[0;34m=\u001b[0m \u001b[0;34m{\u001b[0m\u001b[0msource\u001b[0m\u001b[0;34m:\u001b[0m \u001b[0;36m1\u001b[0m\u001b[0;34m}\u001b[0m\u001b[0;34m\u001b[0m\u001b[0m\n\u001b[0;32m---> 66\u001b[0;31m     \u001b[0;32mreturn\u001b[0m \u001b[0mdict\u001b[0m\u001b[0;34m(\u001b[0m\u001b[0m_single_shortest_path_length\u001b[0m\u001b[0;34m(\u001b[0m\u001b[0mG\u001b[0m\u001b[0;34m.\u001b[0m\u001b[0madj\u001b[0m\u001b[0;34m,\u001b[0m \u001b[0mnextlevel\u001b[0m\u001b[0;34m,\u001b[0m \u001b[0mcutoff\u001b[0m\u001b[0;34m)\u001b[0m\u001b[0;34m)\u001b[0m\u001b[0;34m\u001b[0m\u001b[0m\n\u001b[0m\u001b[1;32m     67\u001b[0m \u001b[0;34m\u001b[0m\u001b[0m\n\u001b[1;32m     68\u001b[0m \u001b[0;34m\u001b[0m\u001b[0m\n",
      "\u001b[0;32m/usr/local/lib/python2.7/dist-packages/networkx/algorithms/shortest_paths/unweighted.pyc\u001b[0m in \u001b[0;36m_single_shortest_path_length\u001b[0;34m(adj, firstlevel, cutoff)\u001b[0m\n\u001b[1;32m     90\u001b[0m             \u001b[0;32mif\u001b[0m \u001b[0mv\u001b[0m \u001b[0;32mnot\u001b[0m \u001b[0;32min\u001b[0m \u001b[0mseen\u001b[0m\u001b[0;34m:\u001b[0m\u001b[0;34m\u001b[0m\u001b[0m\n\u001b[1;32m     91\u001b[0m                 \u001b[0mseen\u001b[0m\u001b[0;34m[\u001b[0m\u001b[0mv\u001b[0m\u001b[0;34m]\u001b[0m \u001b[0;34m=\u001b[0m \u001b[0mlevel\u001b[0m  \u001b[0;31m# set the level of vertex v\u001b[0m\u001b[0;34m\u001b[0m\u001b[0m\n\u001b[0;32m---> 92\u001b[0;31m                 \u001b[0mnextlevel\u001b[0m\u001b[0;34m.\u001b[0m\u001b[0mupdate\u001b[0m\u001b[0;34m(\u001b[0m\u001b[0madj\u001b[0m\u001b[0;34m[\u001b[0m\u001b[0mv\u001b[0m\u001b[0;34m]\u001b[0m\u001b[0;34m)\u001b[0m  \u001b[0;31m# add neighbors of v\u001b[0m\u001b[0;34m\u001b[0m\u001b[0m\n\u001b[0m\u001b[1;32m     93\u001b[0m                 \u001b[0;32myield\u001b[0m \u001b[0;34m(\u001b[0m\u001b[0mv\u001b[0m\u001b[0;34m,\u001b[0m \u001b[0mlevel\u001b[0m\u001b[0;34m)\u001b[0m\u001b[0;34m\u001b[0m\u001b[0m\n\u001b[1;32m     94\u001b[0m         \u001b[0mlevel\u001b[0m \u001b[0;34m+=\u001b[0m \u001b[0;36m1\u001b[0m\u001b[0;34m\u001b[0m\u001b[0m\n",
      "\u001b[0;32m/usr/local/lib/python2.7/dist-packages/networkx/classes/coreviews.pyc\u001b[0m in \u001b[0;36m__getitem__\u001b[0;34m(self, key)\u001b[0m\n\u001b[1;32m     53\u001b[0m \u001b[0;34m\u001b[0m\u001b[0m\n\u001b[1;32m     54\u001b[0m     \u001b[0;32mdef\u001b[0m \u001b[0m__getitem__\u001b[0m\u001b[0;34m(\u001b[0m\u001b[0mself\u001b[0m\u001b[0;34m,\u001b[0m \u001b[0mkey\u001b[0m\u001b[0;34m)\u001b[0m\u001b[0;34m:\u001b[0m\u001b[0;34m\u001b[0m\u001b[0m\n\u001b[0;32m---> 55\u001b[0;31m         \u001b[0;32mreturn\u001b[0m \u001b[0mself\u001b[0m\u001b[0;34m.\u001b[0m\u001b[0m_atlas\u001b[0m\u001b[0;34m[\u001b[0m\u001b[0mkey\u001b[0m\u001b[0;34m]\u001b[0m\u001b[0;34m\u001b[0m\u001b[0m\n\u001b[0m\u001b[1;32m     56\u001b[0m \u001b[0;34m\u001b[0m\u001b[0m\n\u001b[1;32m     57\u001b[0m     \u001b[0;32mdef\u001b[0m \u001b[0mcopy\u001b[0m\u001b[0;34m(\u001b[0m\u001b[0mself\u001b[0m\u001b[0;34m)\u001b[0m\u001b[0;34m:\u001b[0m\u001b[0;34m\u001b[0m\u001b[0m\n",
      "\u001b[0;31mKeyboardInterrupt\u001b[0m: "
     ]
    }
   ],
   "source": [
    "np.random.seed(132435)\n",
    "p_samples = [5, 10, 15, 20]\n",
    "n_repetitions = [3, 5, 7]\n",
    "\n",
    "graph_files = []\n",
    "graph_files.append(os.path.join(os.path.pardir, 'dataset', 'wiki_vote', graph_names[0] + '_cc.edgelist'))\n",
    "graph_files.append(os.path.join(os.path.pardir, 'dataset', 'epinions', graph_names[1] + '_cc.edgelist'))\n",
    "graph_files.append(os.path.join(os.path.pardir, 'dataset', 'gplus', graph_names[2] + '_cc.edgelist'))\n",
    "graph_files.append(os.path.join(os.path.pardir, 'dataset', 'soc_pokec', graph_names[3] + '_cc.edgelist'))\n",
    "\n",
    "stats_cc_g = []\n",
    "for graph_file, graph_name in zip(graph_files, graph_names):\n",
    "    G = nx.read_adjlist(graph_file, create_using=nx.Graph())\n",
    "    print(\"graph \" + graph_name + \"loaded\")\n",
    "    dim = len(G.nodes)\n",
    "    matrix_cc = utils.reservoir_sampling_nodes(G, n_repetitions, p_samples, False)\n",
    "    \n",
    "    stats_cc_p = []\n",
    "    for i, p in enumerate(p_samples):\n",
    "        stats_cc_aggr = []\n",
    "        for j, n in enumerate(n_repetitions):\n",
    "            stats_cc_n = []\n",
    "            for h in range(n):\n",
    "                selected_nodes_cc = matrix_cc[i][j][h]\n",
    "                cc_mat = utils.all_pairs_shortest_path_bfs(G, selected_nodes_cc)\n",
    "                stats_cc = utils.get_stats_bfs(cc_mat)\n",
    "                stats_cc_n.append(stats_cc)\n",
    "                #print(graph_name + \"_\" + str(p) + \"_\" + str(n) + \"_\" + str(h))\n",
    "            stats_cc_n = np.array(stats_cc_n)\n",
    "\n",
    "            aggr_stats_cc = utils.aggregate_stats(stats_cc_n)\n",
    "\n",
    "            stats_cc_aggr.append(aggr_stats_cc)\n",
    "        stats_cc_p.append(stats_cc_aggr)\n",
    "        print(stats_cc_aggr)\n",
    "    "
   ]
  },
  {
   "cell_type": "code",
   "execution_count": null,
   "metadata": {
    "collapsed": true
   },
   "outputs": [],
   "source": [
    "graph_files = []\n",
    "graph_files.append(os.path.join(os.path.pardir, 'dataset', 'wiki_vote', graph_names[0] + '_scc.edgelist'))\n",
    "graph_files.append(os.path.join(os.path.pardir, 'dataset', 'epinions', graph_names[1] + '_scc.edgelist'))\n",
    "graph_files.append(os.path.join(os.path.pardir, 'dataset', 'gplus', graph_names[2] + '_scc.edgelist'))\n",
    "graph_files.append(os.path.join(os.path.pardir, 'dataset', 'soc_pokec', graph_names[3] + '_scc.edgelist'))\n",
    "\n",
    "p_samples = [5, 10, 15, 20]\n",
    "n_repetitions = [3, 5, 7]\n",
    "\n",
    "stats_scc_g = []\n",
    "for graph_file, graph_name in zip(graph_files, graph_names):\n",
    "    dG = nx.read_adjlist(graph_file, create_using=nx.DiGraph())\n",
    "    print(\"graph \" + graph_name + \"loaded\")\n",
    "    matrix_scc = utils.reservoir_sampling_nodes(dG, n_repetitions, p_samples, True)\n",
    "    \n",
    "    stats_scc_p = []\n",
    "    for i, p in enumerate(p_samples):\n",
    "        stats_scc_aggr = []\n",
    "        for j, n in enumerate(n_repetitions):\n",
    "            stats_scc_n = []\n",
    "            for h in range(n):\n",
    "                selected_nodes_scc =matrix_scc[i][j][h]\n",
    "                scc_mat = utils.all_pairs_shortest_path_bfs(dG, selected_nodes_scc)\n",
    "                stats_scc = utils.get_stats_bfs(scc_mat)\n",
    "                stats_scc_n.append(stats_scc)\n",
    "                #print(graph_name + \"_\" + str(p) + \"_\" + str(n) + \"_\" + str(h))\n",
    "            \n",
    "            stats_scc_n = np.array(stats_scc_n)\n",
    "            aggr_stats_scc = utils.aggregate_stats(stats_scc_n)\n",
    "            stats_scc_aggr.append(aggr_stats_scc)\n",
    "        \n",
    "        stats_scc_p.append(stats_scc_aggr)\n",
    "        print(stats_scc_aggr)"
   ]
  }
 ],
 "metadata": {
  "kernelspec": {
   "display_name": "Python 3",
   "language": "python",
   "name": "python3"
  },
  "language_info": {
   "codemirror_mode": {
    "name": "ipython",
    "version": 3
   },
   "file_extension": ".py",
   "mimetype": "text/x-python",
   "name": "python",
   "nbconvert_exporter": "python",
   "pygments_lexer": "ipython3",
   "version": "3.6.3"
  }
 },
 "nbformat": 4,
 "nbformat_minor": 1
}
