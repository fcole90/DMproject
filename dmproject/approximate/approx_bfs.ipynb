{
 "cells": [
  {
   "cell_type": "code",
   "execution_count": null,
   "metadata": {
    "collapsed": true
   },
   "outputs": [],
   "source": [
    "%reload_ext autoreload\n",
    "%autoreload 2\n",
    "\n",
    "import networkx as nx\n",
    "import numpy as np\n",
    "import matplotlib.pyplot as plt\n",
    "from networkx.algorithms.components import strongly_connected_component_subgraphs\n",
    "from networkx.algorithms.components import connected_component_subgraphs\n",
    "import timeit\n",
    "import os\n",
    "\n",
    "\n",
    "import pickle\n",
    "import time\n",
    "\n",
    "workdir = \"/home/michele/aalto/dm/DMproject/dmproject/approximate\"\n",
    "if(os.curdir != workdir):\n",
    "    os.chdir(\"/home/michele/aalto/dm/DMproject/dmproject/approximate\")\n",
    "\n",
    "import sys\n",
    "sys.path.insert(0, '/home/michele/aalto/dm/DMproject/dmproject/utils')\n",
    "\n",
    "import utils"
   ]
  },
  {
   "cell_type": "code",
   "execution_count": null,
   "metadata": {},
   "outputs": [],
   "source": [
    "graph_files = []\n",
    "graph_files.append(os.path.join(os.path.pardir, 'dataset', 'wiki_vote', 'Wiki-Vote.txt'))\n",
    "graph_files.append(os.path.join(os.path.pardir, 'dataset', 'epinions', 'soc-Epinions1.txt'))\n",
    "graph_files.append(os.path.join(os.path.pardir, 'dataset', 'gplus', 'gplus_combined.txt'))\n",
    "graph_files.append(os.path.join(os.path.pardir, 'dataset', 'soc_pokec', 'soc-pokec-relationships.txt'))\n",
    "\n",
    "graph_names = [\"wikivote\", \"epinions\", \"gplus\", \"pokec\"]"
   ]
  },
  {
   "cell_type": "code",
   "execution_count": null,
   "metadata": {},
   "outputs": [],
   "source": [
    "graphname = graph_names[0]\n",
    "file = graph_files[0]\n",
    "#fh = open(file, \"r\")\n",
    "# import of directed\n",
    "dG = nx.read_adjlist(file, create_using=nx.DiGraph())\n",
    "# conversion to undirected graph\n",
    "G = dG.to_undirected()"
   ]
  },
  {
   "cell_type": "code",
   "execution_count": null,
   "metadata": {},
   "outputs": [],
   "source": [
    "np.random.seed(132435)\n",
    "p_samples = [0.05]#, 0.4, 0.7]\n",
    "n_repetitions = [5]#, 100, 500, 1000]\n",
    "\n",
    "dim = len(G.nodes)\n",
    "\n",
    "matrix_cc = utils.reservoir_sampling_nodes(G, dim, n_repetitions, p_samples, False)\n",
    "matrix_scc = utils.reservoir_sampling_nodes(dG, dim, n_repetitions, p_samples, True)\n",
    "    "
   ]
  },
  {
   "cell_type": "code",
   "execution_count": null,
   "metadata": {},
   "outputs": [],
   "source": [
    "def all_pairs_shortest_path_bfs(G, selected_nodes):\n",
    "    #if isinstance(G, nx.DiGraph):   \n",
    "    #else:\n",
    "    shortest_path_mat = []\n",
    "    for node in selected_nodes:\n",
    "        shortest_path_len = list(nx.single_source_shortest_path(G, node))\n",
    "        \n",
    "        print(shortest_path_len)\n",
    "        sys.exit(0)\n",
    "        \n",
    "        shortest_path_mat.append(shortest_path_len)\n",
    "    \n",
    "        \n",
    "\n",
    "stats_cc_p = []\n",
    "stats_scc_p = []\n",
    "for i, p in enumerate(p_samples):\n",
    "    stats_cc_aggr = []\n",
    "    stats_scc_aggr = []\n",
    "    for j, n in enumerate(n_repetitions):\n",
    "        stats_cc_n = []\n",
    "        stats_scc_n = []\n",
    "        for h in range(n):\n",
    "            selected_nodes_cc = matrix_cc[i][j][h]\n",
    "            selected_nodes_scc =matrix_scc[i][j][h]\n",
    "            stats_cc = all_pairs_shortest_path_bfs(G, selected_nodes_cc)\n",
    "            stats_scc = all_pairs_shortest_path_bfs(dG, selected_nodes_scc)\n",
    "            stats_cc_n.append(stats_cc)\n",
    "            stats_scc_n.append(stats_scc)\n",
    "            print(graphname + \"_\" + str(p) + \"_\" + str(n) + \"_\" + str(h))\n",
    "        stats_cc_n = np.array(stats_cc_n)\n",
    "        stats_scc_n = np.array(stats_scc_n)\n",
    "        \n",
    "        aggr_stats_cc = utils.aggregate_stats(stats_cc_n)\n",
    "        aggr_stats_scc = utils.aggregate_stats(stats_scc_n)\n",
    "        \n",
    "        stats_cc_aggr.append(aggr_stats_cc)\n",
    "        stats_scc_aggr.append(aggr_stats_scc)\n",
    "    stats_cc_p.append(stats_cc_aggr)\n",
    "    stats_scc_p.append(stats_scc_aggr)"
   ]
  }
 ],
 "metadata": {
  "kernelspec": {
   "display_name": "Python 2",
   "language": "python",
   "name": "python2"
  },
  "language_info": {
   "codemirror_mode": {
    "name": "ipython",
    "version": 2
   },
   "file_extension": ".py",
   "mimetype": "text/x-python",
   "name": "python",
   "nbconvert_exporter": "python",
   "pygments_lexer": "ipython2",
   "version": "2.7.6"
  }
 },
 "nbformat": 4,
 "nbformat_minor": 0
}
