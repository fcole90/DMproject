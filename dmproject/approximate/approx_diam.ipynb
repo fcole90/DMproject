{
 "cells": [
  {
   "cell_type": "code",
   "execution_count": 11,
   "metadata": {
    "collapsed": true
   },
   "outputs": [],
   "source": [
    "%reload_ext autoreload\n",
    "%autoreload 2\n",
    "\n",
    "import networkx as nx\n",
    "import numpy as np\n",
    "import matplotlib.pyplot as plt\n",
    "from networkx.algorithms.components import strongly_connected_component_subgraphs\n",
    "from networkx.algorithms.components import connected_component_subgraphs\n",
    "import timeit\n",
    "import os\n",
    "\n",
    "\n",
    "import pickle\n",
    "import time\n",
    "\n",
    "workdir = \"/home/michele/aalto/dm/DMproject/dmproject/approximate\"\n",
    "if(os.curdir != workdir):\n",
    "    os.chdir(\"/home/michele/aalto/dm/DMproject/dmproject/approximate\")\n",
    "\n",
    "import sys\n",
    "sys.path.insert(0, '/home/michele/aalto/dm/DMproject/dmproject/utils')\n",
    "\n",
    "import utils"
   ]
  },
  {
   "cell_type": "code",
   "execution_count": 31,
   "metadata": {},
   "outputs": [],
   "source": [
    "graph_files = []\n",
    "graph_files.append(os.path.join(os.path.pardir, 'dataset', 'wiki_vote', 'Wiki-Vote.txt'))\n",
    "graph_files.append(os.path.join(os.path.pardir, 'dataset', 'epinions', 'soc-Epinions1.txt'))\n",
    "graph_files.append(os.path.join(os.path.pardir, 'dataset', 'gplus', 'gplus_combined.txt'))\n",
    "graph_files.append(os.path.join(os.path.pardir, 'dataset', 'soc_pokec', 'soc-pokec-relationships.txt'))\n",
    "\n",
    "graph_names = [\"wikivote\", \"epinions\", \"gplus\", \"pokec\"]"
   ]
  },
  {
   "cell_type": "code",
   "execution_count": 32,
   "metadata": {},
   "outputs": [],
   "source": [
    "\n",
    "graphname = graph_names[0]\n",
    "file = graph_files[0]\n",
    "#fh = open(file, \"r\")\n",
    "# import of directed\n",
    "dG = nx.read_adjlist(file, create_using=nx.DiGraph())\n",
    "# conversion to undirected graph\n",
    "G = dG.to_undirected()"
   ]
  },
  {
   "cell_type": "code",
   "execution_count": 63,
   "metadata": {
    "collapsed": true
   },
   "outputs": [
    {
     "name": "stdout",
     "output_type": "stream",
     "text": [
      "20152\n20152\n"
     ]
    },
    {
     "name": "stdout",
     "output_type": "stream",
     "text": [
      "20152\n20152\n"
     ]
    }
   ],
   "source": [
    "def create_empty_graph(directed):\n",
    "    if directed:\n",
    "        G = nx.DiGraph()\n",
    "    else:\n",
    "        G = nx.Graph()\n",
    "    return  G\n",
    "\n",
    "def reservoir_sampling(G, dim, n_repetitions, p_samples, directed):    \n",
    "    samples_mat_p = []\n",
    "    for p in p_samples:\n",
    "        samples_count = int(dim*p)\n",
    "        #print(samples_count)\n",
    "        samples_mat = []\n",
    "        for n in n_repetitions:\n",
    "            sampled_sub_graphs = []\n",
    "            for i in range(n):\n",
    "                subG = create_empty_graph(directed)\n",
    "\n",
    "                counter = 0\n",
    "                for t, edge in enumerate(G.edges):\n",
    "                    prob = np.random.uniform()\n",
    "                    threshold = min(float(samples_count)/(t+1), 1)\n",
    "\n",
    "                    if prob <= threshold:\n",
    "                        subG.add_edge(edge[0], edge[1])\n",
    "                        counter +=1\n",
    "                    if counter == samples_count:\n",
    "                        break\n",
    "                print(len(subG.edges))\n",
    "                sampled_sub_graphs.append(subG)\n",
    "            samples_mat.append(sampled_sub_graphs)\n",
    "        samples_mat_p.append(samples_mat)\n",
    "    return samples_mat_p\n",
    "\n",
    "def aggregate_stats(matrix, n, m, k):\n",
    "    for i in range(n):\n",
    "        for j in range(m):\n",
    "            for h in range(k):\n",
    "                utils.exact_computation(matrix[])\n",
    "\n",
    "np.random.seed(132435)\n",
    "p_samples = [0.2]#, 0.3, 0.4, 0.7]\n",
    "n_repetitions = [2]#, 50, 100, 500, 1000]\n",
    "\n",
    "dim = len(G.edges)\n",
    "\n",
    "matrix_cc = reservoir_sampling(G, dim, n_repetitions, p_samples, False)\n",
    "matrix_scc = reservoir_sampling(dG, dim, n_repetitions, p_samples, True)\n",
    "#matrix_cc = utils.load_or_do(graphname + \"_res_sampling_cc.pkl\", True, reservoir_sampling, G, dim, n_repetitions, p_samples, False) \n",
    "#matrix_scc = utils.load_or_do(graphname + \"_res_sampling_scc.pkl\", True, reservoir_sampling, dG, dim, n_repetitions, p_samples, True)"
   ]
  },
  {
   "cell_type": "code",
   "execution_count": 67,
   "metadata": {},
   "outputs": [
    {
     "name": "stdout",
     "output_type": "stream",
     "text": [
      "<class 'networkx.classes.graph.Graph'>\n20152\n"
     ]
    }
   ],
   "source": [
    "sampledGraphs = matrix_cc\n",
    "sampleG = sampledGraphs[0][0][0]\n",
    "print(len(sampleG.edges))"
   ]
  },
  {
   "cell_type": "code",
   "execution_count": null,
   "metadata": {},
   "outputs": [],
   "source": []
  }
 ],
 "metadata": {
  "kernelspec": {
   "display_name": "Python 2",
   "language": "python",
   "name": "python2"
  },
  "language_info": {
   "codemirror_mode": {
    "name": "ipython",
    "version": 2
   },
   "file_extension": ".py",
   "mimetype": "text/x-python",
   "name": "python",
   "nbconvert_exporter": "python",
   "pygments_lexer": "ipython2",
   "version": "2.7.6"
  }
 },
 "nbformat": 4,
 "nbformat_minor": 0
}
