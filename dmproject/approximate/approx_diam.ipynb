{
 "cells": [
  {
   "cell_type": "code",
   "execution_count": 11,
   "metadata": {},
   "outputs": [],
   "source": [
    "%reload_ext autoreload\n",
    "%autoreload 2\n",
    "\n",
    "import networkx as nx\n",
    "import numpy as np\n",
    "import matplotlib.pyplot as plt\n",
    "from networkx.algorithms.components import strongly_connected_component_subgraphs\n",
    "from networkx.algorithms.components import connected_component_subgraphs\n",
    "import timeit\n",
    "import os\n",
    "\n",
    "\n",
    "import pickle\n",
    "import time\n",
    "\n",
    "workdir = \"/home/michele/aalto/dm/DMproject/dmproject/approximate\"\n",
    "if(os.curdir != workdir):\n",
    "    os.chdir(\"/home/michele/aalto/dm/DMproject/dmproject/approximate\")\n",
    "\n",
    "import sys\n",
    "sys.path.insert(0, '/home/michele/aalto/dm/DMproject/dmproject/utils')\n",
    "\n",
    "import utils\n",
    "graph_names = [\"wikivote\", \"epinions\", \"gplus\", \"pokec\"]"
   ]
  },
  {
   "cell_type": "code",
   "execution_count": 18,
   "metadata": {
    "collapsed": false
   },
   "outputs": [
    {
     "name": "stdout",
     "output_type": "stream",
     "text": [
      "graph wikivoteloaded\n"
     ]
    },
    {
     "name": "stdout",
     "output_type": "stream",
     "text": [
      "[[[8.0, 3.7181452989208919, 4.0, 6.0], [8.0, 3.7181452989208923, 4.0, 6.0], [8.0, 3.7181452989208919, 4.0, 6.0]], [[8.0, 3.702385424889298, 4.0, 5.0], [8.0, 3.702385424889298, 4.0, 5.0], [8.0, 3.7023854248892976, 4.0, 5.0]], [[14.0, 5.2678096214535195, 5.0, 7.0], [14.0, 5.2768534155785467, 5.0, 7.0], [15.0, 5.278138773335491, 5.0, 7.0]], [[11.0, 4.3547807344475498, 4.0, 6.0], [11.0, 4.3637908921997024, 4.0, 6.0], [12.0, 4.3582906359291371, 4.0, 6.0]]]\n1703.44959593\n"
     ]
    },
    {
     "name": "stdout",
     "output_type": "stream",
     "text": [
      "graph epinionsloaded\n"
     ]
    },
    {
     "name": "stdout",
     "output_type": "stream",
     "text": [
      "[[[8.0, 3.8116133409253359, 4.0, 6.0], [8.0, 3.8116133409253359, 4.0, 6.0], [8.0, 3.8116133409253363, 4.0, 6.0]], [[10.0, 4.584751911513095, 4.0, 6.0], [10.0, 4.584751911513095, 4.0, 6.0], [10.0, 4.584751911513095, 4.0, 6.0]], [[27.0, 10.218515199281924, 10.0, 14.0], [33.0, 10.2524708601035, 10.0, 14.199999999999999], [32.0, 10.20585915665273, 10.0, 13.714285714285714]], [[23.0, 7.2953907065609345, 7.0, 9.3333333333333339], [22.0, 7.2885780972102108, 7.0, 9.5999999999999996], [22.0, 7.2862775382208733, 7.0, 9.5714285714285712]]]\n5414.52313781\n"
     ]
    },
    {
     "name": "stdout",
     "output_type": "stream",
     "text": [
      "graph gplusloaded\n"
     ]
    },
    {
     "ename": "KeyboardInterrupt",
     "evalue": "",
     "traceback": [
      "\u001b[0;31m---------------------------------------------------------------------------\u001b[0m",
      "\u001b[0;31mKeyboardInterrupt\u001b[0m                         Traceback (most recent call last)",
      "\u001b[0;32m<ipython-input-18-b24288bf7bb7>\u001b[0m in \u001b[0;36m<module>\u001b[0;34m()\u001b[0m\n\u001b[1;32m     27\u001b[0m             \u001b[0;32mfor\u001b[0m \u001b[0mh\u001b[0m \u001b[0;32min\u001b[0m \u001b[0mrange\u001b[0m\u001b[0;34m(\u001b[0m\u001b[0mn\u001b[0m\u001b[0;34m)\u001b[0m\u001b[0;34m:\u001b[0m\u001b[0;34m\u001b[0m\u001b[0m\n\u001b[1;32m     28\u001b[0m                 stats_cc, _ = utils.exact_computation_g(matrix_cc[i][j][h]\n\u001b[0;32m---> 29\u001b[0;31m                                                         , graph_name + \"_\" + str(p) + \"_\" + str(n) + \"_\" + str(h))\n\u001b[0m\u001b[1;32m     30\u001b[0m                 \u001b[0mstats_cc_n\u001b[0m\u001b[0;34m.\u001b[0m\u001b[0mappend\u001b[0m\u001b[0;34m(\u001b[0m\u001b[0mstats_cc\u001b[0m\u001b[0;34m)\u001b[0m\u001b[0;34m\u001b[0m\u001b[0m\n\u001b[1;32m     31\u001b[0m \u001b[0;34m\u001b[0m\u001b[0m\n",
      "\u001b[0;32m/home/michele/aalto/dm/DMproject/dmproject/utils/utils.pyc\u001b[0m in \u001b[0;36mexact_computation_g\u001b[0;34m(G, graphname)\u001b[0m\n\u001b[1;32m    154\u001b[0m \u001b[0;32mdef\u001b[0m \u001b[0mexact_computation_g\u001b[0m\u001b[0;34m(\u001b[0m\u001b[0mG\u001b[0m\u001b[0;34m,\u001b[0m \u001b[0mgraphname\u001b[0m\u001b[0;34m)\u001b[0m\u001b[0;34m:\u001b[0m\u001b[0;34m\u001b[0m\u001b[0m\n\u001b[1;32m    155\u001b[0m     \u001b[0mstart_time\u001b[0m \u001b[0;34m=\u001b[0m \u001b[0mtime\u001b[0m\u001b[0;34m.\u001b[0m\u001b[0mtime\u001b[0m\u001b[0;34m(\u001b[0m\u001b[0;34m)\u001b[0m\u001b[0;34m\u001b[0m\u001b[0m\n\u001b[0;32m--> 156\u001b[0;31m     \u001b[0mstats\u001b[0m \u001b[0;34m=\u001b[0m \u001b[0mexact_computation_wrapped\u001b[0m\u001b[0;34m(\u001b[0m\u001b[0mG\u001b[0m\u001b[0;34m,\u001b[0m \u001b[0mgraphname\u001b[0m\u001b[0;34m)\u001b[0m\u001b[0;34m\u001b[0m\u001b[0m\n\u001b[0m\u001b[1;32m    157\u001b[0m \u001b[0;34m\u001b[0m\u001b[0m\n\u001b[1;32m    158\u001b[0m     \u001b[0mend_time\u001b[0m \u001b[0;34m=\u001b[0m \u001b[0mtime\u001b[0m\u001b[0;34m.\u001b[0m\u001b[0mtime\u001b[0m\u001b[0;34m(\u001b[0m\u001b[0;34m)\u001b[0m\u001b[0;34m\u001b[0m\u001b[0m\n",
      "\u001b[0;32m/home/michele/aalto/dm/DMproject/dmproject/utils/utils.pyc\u001b[0m in \u001b[0;36mexact_computation_wrapped\u001b[0;34m(G, graphname)\u001b[0m\n\u001b[1;32m    186\u001b[0m         \u001b[0mgtype\u001b[0m \u001b[0;34m=\u001b[0m \u001b[0;34m\"cc\"\u001b[0m\u001b[0;34m\u001b[0m\u001b[0m\n\u001b[1;32m    187\u001b[0m         largest_cc_mat = load_or_do(graphname + \"_shortestpath_\" + gtype + \".pkl\", True, get_apspl_mat,\n\u001b[0;32m--> 188\u001b[0;31m                                     nx.all_pairs_shortest_path_length(G))\n\u001b[0m\u001b[1;32m    189\u001b[0m         \u001b[0mstats\u001b[0m \u001b[0;34m=\u001b[0m \u001b[0mget_stats\u001b[0m\u001b[0;34m(\u001b[0m\u001b[0mlargest_cc_mat\u001b[0m\u001b[0;34m)\u001b[0m\u001b[0;34m\u001b[0m\u001b[0m\n\u001b[1;32m    190\u001b[0m \u001b[0;34m\u001b[0m\u001b[0m\n",
      "\u001b[0;32m/home/michele/aalto/dm/DMproject/dmproject/utils/utils.pyc\u001b[0m in \u001b[0;36mload_or_do\u001b[0;34m(name, save_if_not_found, f, *args)\u001b[0m\n\u001b[1;32m     31\u001b[0m         \u001b[0;31m#print(\"Cache for {} was not available, running the function instead..\".format(name))\u001b[0m\u001b[0;34m\u001b[0m\u001b[0;34m\u001b[0m\u001b[0m\n\u001b[1;32m     32\u001b[0m         \u001b[0mstart_time\u001b[0m \u001b[0;34m=\u001b[0m \u001b[0mtime\u001b[0m\u001b[0;34m.\u001b[0m\u001b[0mtime\u001b[0m\u001b[0;34m(\u001b[0m\u001b[0;34m)\u001b[0m\u001b[0;34m\u001b[0m\u001b[0m\n\u001b[0;32m---> 33\u001b[0;31m         \u001b[0mobj\u001b[0m \u001b[0;34m=\u001b[0m \u001b[0mf\u001b[0m\u001b[0;34m(\u001b[0m\u001b[0;34m*\u001b[0m\u001b[0margs\u001b[0m\u001b[0;34m)\u001b[0m\u001b[0;34m\u001b[0m\u001b[0m\n\u001b[0m\u001b[1;32m     34\u001b[0m         \u001b[0mend_time\u001b[0m \u001b[0;34m=\u001b[0m \u001b[0mtime\u001b[0m\u001b[0;34m.\u001b[0m\u001b[0mtime\u001b[0m\u001b[0;34m(\u001b[0m\u001b[0;34m)\u001b[0m\u001b[0;34m\u001b[0m\u001b[0m\n\u001b[1;32m     35\u001b[0m         \u001b[0mrun_time\u001b[0m \u001b[0;34m=\u001b[0m \u001b[0mend_time\u001b[0m\u001b[0;34m-\u001b[0m\u001b[0mstart_time\u001b[0m\u001b[0;34m\u001b[0m\u001b[0m\n",
      "\u001b[0;32m/home/michele/aalto/dm/DMproject/dmproject/utils/utils.pyc\u001b[0m in \u001b[0;36mget_apspl_mat\u001b[0;34m(obj)\u001b[0m\n\u001b[1;32m    175\u001b[0m \u001b[0;34m\u001b[0m\u001b[0m\n\u001b[1;32m    176\u001b[0m \u001b[0;32mdef\u001b[0m \u001b[0mget_apspl_mat\u001b[0m\u001b[0;34m(\u001b[0m\u001b[0mobj\u001b[0m\u001b[0;34m)\u001b[0m\u001b[0;34m:\u001b[0m\u001b[0;34m\u001b[0m\u001b[0m\n\u001b[0;32m--> 177\u001b[0;31m     \u001b[0;32mreturn\u001b[0m \u001b[0mlist\u001b[0m\u001b[0;34m(\u001b[0m\u001b[0mobj\u001b[0m\u001b[0;34m)\u001b[0m\u001b[0;34m\u001b[0m\u001b[0m\n\u001b[0m\u001b[1;32m    178\u001b[0m \u001b[0;34m\u001b[0m\u001b[0m\n\u001b[1;32m    179\u001b[0m \u001b[0;32mdef\u001b[0m \u001b[0mexact_computation_wrapped\u001b[0m\u001b[0;34m(\u001b[0m\u001b[0mG\u001b[0m\u001b[0;34m,\u001b[0m \u001b[0mgraphname\u001b[0m\u001b[0;34m)\u001b[0m\u001b[0;34m:\u001b[0m\u001b[0;34m\u001b[0m\u001b[0m\n",
      "\u001b[0;32m/usr/local/lib/python2.7/dist-packages/networkx/algorithms/shortest_paths/unweighted.pyc\u001b[0m in \u001b[0;36mall_pairs_shortest_path_length\u001b[0;34m(G, cutoff)\u001b[0m\n\u001b[1;32m    184\u001b[0m     \u001b[0;31m# TODO This can be trivially parallelized.\u001b[0m\u001b[0;34m\u001b[0m\u001b[0;34m\u001b[0m\u001b[0m\n\u001b[1;32m    185\u001b[0m     \u001b[0;32mfor\u001b[0m \u001b[0mn\u001b[0m \u001b[0;32min\u001b[0m \u001b[0mG\u001b[0m\u001b[0;34m:\u001b[0m\u001b[0;34m\u001b[0m\u001b[0m\n\u001b[0;32m--> 186\u001b[0;31m         \u001b[0;32myield\u001b[0m \u001b[0;34m(\u001b[0m\u001b[0mn\u001b[0m\u001b[0;34m,\u001b[0m \u001b[0mlength\u001b[0m\u001b[0;34m(\u001b[0m\u001b[0mG\u001b[0m\u001b[0;34m,\u001b[0m \u001b[0mn\u001b[0m\u001b[0;34m,\u001b[0m \u001b[0mcutoff\u001b[0m\u001b[0;34m=\u001b[0m\u001b[0mcutoff\u001b[0m\u001b[0;34m)\u001b[0m\u001b[0;34m)\u001b[0m\u001b[0;34m\u001b[0m\u001b[0m\n\u001b[0m\u001b[1;32m    187\u001b[0m \u001b[0;34m\u001b[0m\u001b[0m\n\u001b[1;32m    188\u001b[0m \u001b[0;34m\u001b[0m\u001b[0m\n",
      "\u001b[0;32m/usr/local/lib/python2.7/dist-packages/networkx/algorithms/shortest_paths/unweighted.pyc\u001b[0m in \u001b[0;36msingle_source_shortest_path_length\u001b[0;34m(G, source, cutoff)\u001b[0m\n\u001b[1;32m     64\u001b[0m         \u001b[0mcutoff\u001b[0m \u001b[0;34m=\u001b[0m \u001b[0mfloat\u001b[0m\u001b[0;34m(\u001b[0m\u001b[0;34m'inf'\u001b[0m\u001b[0;34m)\u001b[0m\u001b[0;34m\u001b[0m\u001b[0m\n\u001b[1;32m     65\u001b[0m     \u001b[0mnextlevel\u001b[0m \u001b[0;34m=\u001b[0m \u001b[0;34m{\u001b[0m\u001b[0msource\u001b[0m\u001b[0;34m:\u001b[0m \u001b[0;36m1\u001b[0m\u001b[0;34m}\u001b[0m\u001b[0;34m\u001b[0m\u001b[0m\n\u001b[0;32m---> 66\u001b[0;31m     \u001b[0;32mreturn\u001b[0m \u001b[0mdict\u001b[0m\u001b[0;34m(\u001b[0m\u001b[0m_single_shortest_path_length\u001b[0m\u001b[0;34m(\u001b[0m\u001b[0mG\u001b[0m\u001b[0;34m.\u001b[0m\u001b[0madj\u001b[0m\u001b[0;34m,\u001b[0m \u001b[0mnextlevel\u001b[0m\u001b[0;34m,\u001b[0m \u001b[0mcutoff\u001b[0m\u001b[0;34m)\u001b[0m\u001b[0;34m)\u001b[0m\u001b[0;34m\u001b[0m\u001b[0m\n\u001b[0m\u001b[1;32m     67\u001b[0m \u001b[0;34m\u001b[0m\u001b[0m\n\u001b[1;32m     68\u001b[0m \u001b[0;34m\u001b[0m\u001b[0m\n",
      "\u001b[0;32m/usr/local/lib/python2.7/dist-packages/networkx/algorithms/shortest_paths/unweighted.pyc\u001b[0m in \u001b[0;36m_single_shortest_path_length\u001b[0;34m(adj, firstlevel, cutoff)\u001b[0m\n\u001b[1;32m     90\u001b[0m             \u001b[0;32mif\u001b[0m \u001b[0mv\u001b[0m \u001b[0;32mnot\u001b[0m \u001b[0;32min\u001b[0m \u001b[0mseen\u001b[0m\u001b[0;34m:\u001b[0m\u001b[0;34m\u001b[0m\u001b[0m\n\u001b[1;32m     91\u001b[0m                 \u001b[0mseen\u001b[0m\u001b[0;34m[\u001b[0m\u001b[0mv\u001b[0m\u001b[0;34m]\u001b[0m \u001b[0;34m=\u001b[0m \u001b[0mlevel\u001b[0m  \u001b[0;31m# set the level of vertex v\u001b[0m\u001b[0;34m\u001b[0m\u001b[0m\n\u001b[0;32m---> 92\u001b[0;31m                 \u001b[0mnextlevel\u001b[0m\u001b[0;34m.\u001b[0m\u001b[0mupdate\u001b[0m\u001b[0;34m(\u001b[0m\u001b[0madj\u001b[0m\u001b[0;34m[\u001b[0m\u001b[0mv\u001b[0m\u001b[0;34m]\u001b[0m\u001b[0;34m)\u001b[0m  \u001b[0;31m# add neighbors of v\u001b[0m\u001b[0;34m\u001b[0m\u001b[0m\n\u001b[0m\u001b[1;32m     93\u001b[0m                 \u001b[0;32myield\u001b[0m \u001b[0;34m(\u001b[0m\u001b[0mv\u001b[0m\u001b[0;34m,\u001b[0m \u001b[0mlevel\u001b[0m\u001b[0;34m)\u001b[0m\u001b[0;34m\u001b[0m\u001b[0m\n\u001b[1;32m     94\u001b[0m         \u001b[0mlevel\u001b[0m \u001b[0;34m+=\u001b[0m \u001b[0;36m1\u001b[0m\u001b[0;34m\u001b[0m\u001b[0m\n",
      "\u001b[0;32m/usr/lib/python2.7/_abcoll.pyc\u001b[0m in \u001b[0;36mkeys\u001b[0;34m(self)\u001b[0m\n\u001b[1;32m    408\u001b[0m     \u001b[0;32mdef\u001b[0m \u001b[0mkeys\u001b[0m\u001b[0;34m(\u001b[0m\u001b[0mself\u001b[0m\u001b[0;34m)\u001b[0m\u001b[0;34m:\u001b[0m\u001b[0;34m\u001b[0m\u001b[0m\n\u001b[1;32m    409\u001b[0m         \u001b[0;34m\"D.keys() -> list of D's keys\"\u001b[0m\u001b[0;34m\u001b[0m\u001b[0m\n\u001b[0;32m--> 410\u001b[0;31m         \u001b[0;32mreturn\u001b[0m \u001b[0mlist\u001b[0m\u001b[0;34m(\u001b[0m\u001b[0mself\u001b[0m\u001b[0;34m)\u001b[0m\u001b[0;34m\u001b[0m\u001b[0m\n\u001b[0m\u001b[1;32m    411\u001b[0m \u001b[0;34m\u001b[0m\u001b[0m\n\u001b[1;32m    412\u001b[0m     \u001b[0;32mdef\u001b[0m \u001b[0mitems\u001b[0m\u001b[0;34m(\u001b[0m\u001b[0mself\u001b[0m\u001b[0;34m)\u001b[0m\u001b[0;34m:\u001b[0m\u001b[0;34m\u001b[0m\u001b[0m\n",
      "\u001b[0;31mKeyboardInterrupt\u001b[0m: "
     ],
     "output_type": "error"
    }
   ],
   "source": [
    "np.random.seed(132435)\n",
    "p_samples = [500, 1000, 5000, 10000]\n",
    "n_repetitions = [3, 5, 7]\n",
    "\n",
    "graph_files = []\n",
    "graph_files.append(os.path.join(os.path.pardir, 'dataset', 'wiki_vote', graph_names[0] + '_cc.edgelist'))\n",
    "graph_files.append(os.path.join(os.path.pardir, 'dataset', 'epinions', graph_names[1] + '_cc.edgelist'))\n",
    "graph_files.append(os.path.join(os.path.pardir, 'dataset', 'gplus', graph_names[2] + '_cc.edgelist'))\n",
    "graph_files.append(os.path.join(os.path.pardir, 'dataset', 'soc_pokec', graph_names[3] + '_cc.edgelist'))\n",
    "\n",
    "stats_cc_g = []\n",
    "for graph_file, graph_name in zip(graph_files[0:3], graph_names[0:3]):\n",
    "    gtype = \"cc\"\n",
    "    G = nx.read_adjlist(graph_file, create_using=nx.Graph())\n",
    "    print(\"graph \" + graph_name + \"loaded\")\n",
    "    start_time = time.time()\n",
    "\n",
    "    \n",
    "    matrix_cc = utils.reservoir_sampling_edges(G, n_repetitions, p_samples, False)\n",
    "    #matrix_cc = utils.load_or_do(graphname + \"_res_sampling_cc.pkl\", True, reservoir_sampling, G, dim, n_repetitions, p_samples, False)    \n",
    "    \n",
    "    stats_cc_p = []\n",
    "    for i, p in enumerate(p_samples):\n",
    "        stats_cc_aggr = []        \n",
    "        for j, n in enumerate(n_repetitions):\n",
    "            stats_cc_n = []\n",
    "            for h in range(n):\n",
    "                stats_cc, _ = utils.exact_computation_g(matrix_cc[i][j][h]\n",
    "                                                        , graph_name + \"_\" + str(p) + \"_\" + str(n) + \"_\" + str(h))\n",
    "                stats_cc_n.append(stats_cc)\n",
    "            \n",
    "            stats_cc_n = np.array(stats_cc_n)\n",
    "            aggr_stats_cc = utils.aggregate_stats(stats_cc_n)\n",
    "            stats_cc_aggr.append(aggr_stats_cc)\n",
    "            \n",
    "        stats_cc_p.append(stats_cc_aggr)\n",
    "    stats_cc_g.append(stats_cc_p)\n",
    "    print(stats_cc_p)\n",
    "    \n",
    "    end_time = time.time()\n",
    "    print(end_time-start_time)\n",
    "    "
   ]
  },
  {
   "cell_type": "code",
   "execution_count": null,
   "metadata": {},
   "outputs": [],
   "source": [
    "print(stats_cc_g)"
   ]
  },
  {
   "cell_type": "code",
   "execution_count": 19,
   "metadata": {},
   "outputs": [],
   "source": [
    "graph_files = []\n",
    "graph_files.append(os.path.join(os.path.pardir, 'dataset', 'wiki_vote', graph_names[0] + '_scc.edgelist'))\n",
    "graph_files.append(os.path.join(os.path.pardir, 'dataset', 'epinions', graph_names[1] + '_scc.edgelist'))\n",
    "graph_files.append(os.path.join(os.path.pardir, 'dataset', 'gplus', graph_names[2] + '_scc.edgelist'))\n",
    "graph_files.append(os.path.join(os.path.pardir, 'dataset', 'soc_pokec', graph_names[3] + '_scc.edgelist'))\n",
    "\n",
    "p_samples = [100, 200, 500, 1000]\n",
    "n_repetitions = [3, 5, 7]\n",
    "\n",
    "stats_scc_g = []\n",
    "for graph_file, graph_name in zip(graph_files[2:3], graph_names[2:3]):\n",
    "    gtype = \"scc\"\n",
    "    dG = nx.read_adjlist(graph_file, create_using=nx.DiGraph())\n",
    "    \n",
    "    print(\"graph \" + graph_name + \"loaded\")\n",
    "    start_time = time.time()\n",
    "\n",
    "    matrix_scc = utils.reservoir_sampling_edges(dG, n_repetitions, p_samples, True)\n",
    "    #matrix_scc = utils.load_or_do(graphname + \"_res_sampling_scc.pkl\", True, reservoir_sampling, dG, dim, n_repetitions, p_samples, True)\n",
    "    \n",
    "    stats_scc_p = []\n",
    "    for i, p in enumerate(p_samples):\n",
    "        stats_scc_aggr = []\n",
    "        for j, n in enumerate(n_repetitions):\n",
    "            stats_scc_n = []\n",
    "            for h in range(n):\n",
    "                stats_scc, _= utils.exact_computation_g(matrix_scc[i][j][h]\n",
    "                                                        , graph_name + \"_\" + gtype + \"_\" + str(p) + \"_\" + str(n) + \"_\" + str(h))\n",
    "                stats_scc_n.append(stats_scc)\n",
    "            stats_scc_n = np.array(stats_scc_n)\n",
    "            aggr_stats_scc = utils.aggregate_stats(stats_scc_n)\n",
    "            stats_scc_aggr.append(aggr_stats_scc)\n",
    "        stats_scc_p.append(stats_scc_aggr)\n",
    "    \n",
    "    stats_scc_g.append(stats_scc_p)\n",
    "    print(stats_scc_p)\n",
    "    \n",
    "    end_time = time.time()\n",
    "    print(end_time-start_time)\n",
    "    "
   ]
  },
  {
   "cell_type": "code",
   "execution_count": 7,
   "metadata": {},
   "outputs": [
    {
     "name": "stdout",
     "output_type": "stream",
     "text": [
      "[[[[1.0, 0.48076923076923078, 0.0, 1.0], [1.0, 0.48076923076923073, 0.0, 1.0], [1.0, 0.48076923076923078, 0.0, 1.0]], [[1.0, 0.49627791563275436, 0.0, 1.0], [1.0, 0.49627791563275442, 0.0, 1.0], [1.0, 0.49627791563275447, 0.0, 1.0]], [[1.0, 0.52465897166841557, 1.0, 1.0], [1.0, 0.52465897166841557, 1.0, 1.0], [1.0, 0.52465897166841557, 1.0, 1.0]], [[3.0, 0.69015544041450783, 1.0, 1.0], [3.0, 0.69015544041450783, 1.0, 1.0], [3.0, 0.69015544041450794, 1.0, 1.0]]], [[[1.0, 0.49751243781094528, 0.0, 1.0], [1.0, 0.49751243781094534, 0.0, 1.0], [1.0, 0.49751243781094528, 0.0, 1.0]], [[2.0, 0.6454767726161369, 1.0, 1.0], [2.0, 0.6454767726161369, 1.0, 1.0], [2.0, 0.6454767726161369, 1.0, 1.0]], [[2.0, 0.57846153846153847, 1.0, 1.0], [2.0, 0.57846153846153847, 1.0, 1.0], [2.0, 0.57846153846153847, 1.0, 1.0]], [[2.0, 0.55532359081419624, 1.0, 1.0], [2.0, 0.55532359081419624, 1.0, 1.0], [2.0, 0.55532359081419624, 1.0, 1.0]]]]\n"
     ]
    }
   ],
   "source": [
    "print(stats_scc_g)"
   ]
  },
  {
   "cell_type": "code",
   "execution_count": null,
   "metadata": {},
   "outputs": [],
   "source": []
  }
 ],
 "metadata": {
  "kernelspec": {
   "display_name": "Python 3",
   "language": "python",
   "name": "python3"
  },
  "language_info": {
   "codemirror_mode": {
    "name": "ipython",
    "version": 3
   },
   "file_extension": ".py",
   "mimetype": "text/x-python",
   "name": "python",
   "nbconvert_exporter": "python",
   "pygments_lexer": "ipython3",
   "version": "3.5.3"
  }
 },
 "nbformat": 4,
 "nbformat_minor": 1
}
