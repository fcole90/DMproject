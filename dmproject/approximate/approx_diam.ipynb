{
 "cells": [
  {
   "cell_type": "code",
   "execution_count": 1,
   "metadata": {
    "collapsed": true
   },
   "outputs": [],
   "source": [
    "%load_ext autoreload\n",
    "%autoreload 2\n",
    "\n",
    "import networkx as nx\n",
    "import numpy as np\n",
    "import matplotlib.pyplot as plt\n",
    "from networkx.algorithms.components import strongly_connected_component_subgraphs\n",
    "from networkx.algorithms.components import connected_component_subgraphs\n",
    "import timeit\n",
    "import os\n",
    "\n",
    "\n",
    "import pickle\n",
    "import time\n",
    "\n",
    "workdir = \"/home/michele/aalto/dm/DMproject/dmproject/approximate\"\n",
    "if(os.curdir != workdir):\n",
    "    os.chdir(\"/home/michele/aalto/dm/DMproject/dmproject/approximate\")\n",
    "\n",
    "import sys\n",
    "sys.path.insert(0, '/home/michele/aalto/dm/DMproject/dmproject/utils')\n",
    "\n",
    "import utils"
   ]
  },
  {
   "cell_type": "code",
   "execution_count": 2,
   "metadata": {},
   "outputs": [],
   "source": [
    "graph_files = []\n",
    "graph_files.append(os.path.join(os.path.pardir, 'dataset', 'wiki_vote', 'Wiki-Vote.txt'))\n",
    "graph_files.append(os.path.join(os.path.pardir, 'dataset', 'epinions', 'soc-Epinions1.txt'))\n",
    "graph_files.append(os.path.join(os.path.pardir, 'dataset', 'gplus', 'gplus_combined.txt'))\n",
    "graph_files.append(os.path.join(os.path.pardir, 'dataset', 'soc_pokec', 'soc-pokec-relationships.txt'))\n",
    "graph_names = [\"wikivote\", \"epinions\", \"gplus\", \"pokec\"]"
   ]
  },
  {
   "cell_type": "code",
   "execution_count": null,
   "metadata": {},
   "outputs": [],
   "source": [
    "\n",
    "graphname = graph_names[0]\n",
    "file = graph_files[0]\n",
    "#fh = open(file, \"r\")\n",
    "# import of directed\n",
    "dG = nx.read_adjlist(file, create_using=nx.DiGraph())\n",
    "# conversion to undirected graph\n",
    "G = dG.to_undirected()"
   ]
  },
  {
   "cell_type": "code",
   "execution_count": null,
   "metadata": {
    "collapsed": true
   },
   "outputs": [],
   "source": [
    "def reservoir_sampling(G, largest_cc_len, n_repetitions, p_samples, directed=False):\n",
    "    res = []\n",
    "    for p in p_samples:\n",
    "        samples_mat_p = []\n",
    "        for n in n_repetitions:\n",
    "            samples_count = largest_cc_len*p\n",
    "            samples_mat = []\n",
    "            for i in range(n):\n",
    "                samples = []\n",
    "                \n",
    "                if directed:\n",
    "                    subG = nx.DiGraph()\n",
    "                else:\n",
    "                    subG = nx.Graph()\n",
    "                \n",
    "                for t, edge in enumerate(G.edges):\n",
    "                    prob = np.random.uniform()\n",
    "                    threshold = min(samples_count/(t+1), 1)\n",
    "                    \n",
    "                    if prob <= threshold: \n",
    "                        subG.add_edge(edge[0], edge[1])\n",
    "                samples_mat.append(subG)\n",
    "            samples_mat_p.append(samples_mat)\n",
    "        res.append(samples_mat_p)\n",
    "    return res\n",
    "\n",
    "np.random.seed(132435)\n",
    "p_samples = [0.2]#, 0.3, 0.4, 0.7]\n",
    "n_repetitions = [2]#, 50, 100, 500, 1000]\n",
    "\n",
    "matrix_cc = reservoir_sampling(G, largest_cc_len, n_repetitions, p_samples)\n",
    "pickle.dump(matrix_cc, open(file + \"_matrix_cc_list.pkl\", \"wb\")) \n",
    "matrix_scc = reservoir_sampling(G, largest_cc_len, n_repetitions, p_samples, directed=True)\n",
    "pickle.dump(matrix_scc, open(file + \"_matrix_scc_list.pkl\", \"wb\"))"
   ]
  },
  {
   "cell_type": "code",
   "execution_count": 19,
   "metadata": {},
   "outputs": [
    {
     "name": "stdout",
     "output_type": "stream",
     "text": [
      "(1, 1, 2)\n7382\n"
     ]
    }
   ],
   "source": [
    "newG = np.array(matrix_cc)\n",
    "print(newG.shape)\n",
    "print(len(newG[0,0,0].edges()))"
   ]
  },
  {
   "cell_type": "code",
   "execution_count": null,
   "metadata": {},
   "outputs": [],
   "source": []
  }
 ],
 "metadata": {
  "kernelspec": {
   "display_name": "Python 2",
   "language": "python",
   "name": "python2"
  },
  "language_info": {
   "codemirror_mode": {
    "name": "ipython",
    "version": 2
   },
   "file_extension": ".py",
   "mimetype": "text/x-python",
   "name": "python",
   "nbconvert_exporter": "python",
   "pygments_lexer": "ipython2",
   "version": "2.7.6"
  }
 },
 "nbformat": 4,
 "nbformat_minor": 0
}
