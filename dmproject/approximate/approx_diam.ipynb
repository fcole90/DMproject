{
 "cells": [
  {
   "cell_type": "code",
   "execution_count": 1,
   "metadata": {
    "collapsed": true
   },
   "outputs": [],
   "source": [
    "# Please run `jupyter notebook` from the folder in which is this file (it uses getcwd()!)\n",
    "%reload_ext autoreload\n",
    "%autoreload 2\n",
    "\n",
    "import networkx as nx\n",
    "import numpy as np\n",
    "from networkx.algorithms.components import strongly_connected_component_subgraphs\n",
    "from networkx.algorithms.components import connected_component_subgraphs\n",
    "import timeit\n",
    "import os\n",
    "\n",
    "workdir = os.getcwd()\n",
    "utildir = os.path.join(workdir, os.path.pardir, \"utils\")\n",
    "\n",
    "if(os.curdir != workdir):\n",
    "    os.chdir(workdir)\n",
    "\n",
    "import sys\n",
    "sys.path.insert(0, utildir)\n",
    "\n",
    "import utils\n",
    "import pickle\n",
    "import time\n",
    "graph_names = [\"wikivote\", \"epinions\", \"gplus\", \"pokec\"]"
   ]
  },
  {
   "cell_type": "code",
   "execution_count": null,
   "metadata": {
    "collapsed": true
   },
   "outputs": [],
   "source": [
    "np.random.seed(132435)\n",
    "p_samples = [100, 200, 500, 1000]\n",
    "n_repetitions = [3, 5, 7]\n",
    "\n",
    "graph_files = []\n",
    "graph_files.append(os.path.join(os.path.pardir, 'dataset', 'wiki_vote', graph_names[0] + '_cc.edgelist'))\n",
    "graph_files.append(os.path.join(os.path.pardir, 'dataset', 'epinions', graph_names[1] + '_cc.edgelist'))\n",
    "graph_files.append(os.path.join(os.path.pardir, 'dataset', 'gplus', graph_names[2] + '_cc.edgelist'))\n",
    "graph_files.append(os.path.join(os.path.pardir, 'dataset', 'soc_pokec', graph_names[3] + '_cc.edgelist'))\n",
    "\n",
    "stats_cc_g = []\n",
    "for graph_file, graph_name in zip(graph_files, graph_names):\n",
    "    gtype = \"cc\"\n",
    "    G = nx.read_adjlist(graph_file, create_using=nx.Graph())\n",
    "    print(\"graph \" + graph_name + \" loaded\")\n",
    "    start_time = time.time()\n",
    "    \n",
    "    matrix_cc = utils.reservoir_sampling_edges(G, n_repetitions, p_samples, False)\n",
    "    \n",
    "    stats_cc_p = []\n",
    "    for i, p in enumerate(p_samples):\n",
    "        stats_cc_aggr = []        \n",
    "        for j, n in enumerate(n_repetitions):\n",
    "            stats_cc_n = []\n",
    "            for h in range(n):\n",
    "                stats_cc, _ = utils.exact_computation_g(matrix_cc[i][j][h]\n",
    "                                                        , graph_name + \"_\" + str(p) + \"_\" + str(n) + \"_\" + str(h))\n",
    "                stats_cc_n.append(stats_cc)\n",
    "            \n",
    "            stats_cc_n = np.array(stats_cc_n)\n",
    "            aggr_stats_cc = utils.aggregate_stats(stats_cc_n)\n",
    "            stats_cc_aggr.append(aggr_stats_cc)\n",
    "            \n",
    "        stats_cc_p.append(stats_cc_aggr)\n",
    "    stats_cc_g.append(stats_cc_p)\n",
    "    print(stats_cc_p)\n",
    "    \n",
    "    end_time = time.time()\n",
    "    print(end_time-start_time)"
   ]
  },
  {
   "cell_type": "code",
   "execution_count": null,
   "metadata": {
    "collapsed": true
   },
   "outputs": [],
   "source": [
    "graph_files = []\n",
    "graph_files.append(os.path.join(os.path.pardir, 'dataset', 'wiki_vote', graph_names[0] + '_scc.edgelist'))\n",
    "graph_files.append(os.path.join(os.path.pardir, 'dataset', 'epinions', graph_names[1] + '_scc.edgelist'))\n",
    "graph_files.append(os.path.join(os.path.pardir, 'dataset', 'gplus', graph_names[2] + '_scc.edgelist'))\n",
    "graph_files.append(os.path.join(os.path.pardir, 'dataset', 'soc_pokec', graph_names[3] + '_scc.edgelist'))\n",
    "\n",
    "p_samples = [100, 200, 500, 1000]\n",
    "n_repetitions = [3, 5, 7]\n",
    "\n",
    "stats_scc_g = []\n",
    "for graph_file, graph_name in zip(graph_files, graph_names):\n",
    "    gtype = \"scc\"\n",
    "    dG = nx.read_adjlist(graph_file, create_using=nx.DiGraph())\n",
    "    \n",
    "    print(\"graph \" + graph_name + \"loaded\")\n",
    "    start_time = time.time()\n",
    "\n",
    "    matrix_scc = utils.reservoir_sampling_edges(dG, n_repetitions, p_samples, True)\n",
    "    \n",
    "    stats_scc_p = []\n",
    "    for i, p in enumerate(p_samples):\n",
    "        stats_scc_aggr = []\n",
    "        for j, n in enumerate(n_repetitions):\n",
    "            stats_scc_n = []\n",
    "            for h in range(n):\n",
    "                stats_scc, _= utils.exact_computation_g(matrix_scc[i][j][h]\n",
    "                                                        , graph_name + \"_\" + gtype + \"_\" + str(p) + \"_\" + str(n) + \"_\" + str(h))\n",
    "                stats_scc_n.append(stats_scc)\n",
    "            stats_scc_n = np.array(stats_scc_n)\n",
    "            aggr_stats_scc = utils.aggregate_stats(stats_scc_n)\n",
    "            stats_scc_aggr.append(aggr_stats_scc)\n",
    "        stats_scc_p.append(stats_scc_aggr)\n",
    "    \n",
    "    stats_scc_g.append(stats_scc_p)\n",
    "    print(stats_scc_p)\n",
    "    \n",
    "    end_time = time.time()\n",
    "    print(end_time-start_time)\n",
    "    \n",
    "\n"
   ]
  }
 ],
 "metadata": {
  "kernelspec": {
   "display_name": "Python 3",
   "language": "python",
   "name": "python3"
  },
  "language_info": {
   "codemirror_mode": {
    "name": "ipython",
    "version": 3
   },
   "file_extension": ".py",
   "mimetype": "text/x-python",
   "name": "python",
   "nbconvert_exporter": "python",
   "pygments_lexer": "ipython3",
   "version": "3.6.3"
  }
 },
 "nbformat": 4,
 "nbformat_minor": 1
}
