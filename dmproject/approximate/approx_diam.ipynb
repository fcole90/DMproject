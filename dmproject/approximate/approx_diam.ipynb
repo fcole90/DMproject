{
 "cells": [
  {
   "cell_type": "code",
   "execution_count": 1,
   "metadata": {
    "collapsed": true
   },
   "outputs": [],
   "source": [
    "%reload_ext autoreload\n",
    "%autoreload 2\n",
    "\n",
    "import networkx as nx\n",
    "import numpy as np\n",
    "import matplotlib.pyplot as plt\n",
    "from networkx.algorithms.components import strongly_connected_component_subgraphs\n",
    "from networkx.algorithms.components import connected_component_subgraphs\n",
    "import timeit\n",
    "import os\n",
    "\n",
    "\n",
    "import pickle\n",
    "import time\n",
    "\n",
    "workdir = \"/home/michele/aalto/dm/DMproject/dmproject/approximate\"\n",
    "if(os.curdir != workdir):\n",
    "    os.chdir(\"/home/michele/aalto/dm/DMproject/dmproject/approximate\")\n",
    "\n",
    "import sys\n",
    "sys.path.insert(0, '/home/michele/aalto/dm/DMproject/dmproject/utils')\n",
    "\n",
    "import utils"
   ]
  },
  {
   "cell_type": "code",
   "execution_count": 2,
   "metadata": {},
   "outputs": [],
   "source": [
    "graph_files = []\n",
    "graph_files.append(os.path.join(os.path.pardir, 'dataset', 'wiki_vote', 'Wiki-Vote.txt'))\n",
    "graph_files.append(os.path.join(os.path.pardir, 'dataset', 'epinions', 'soc-Epinions1.txt'))\n",
    "graph_files.append(os.path.join(os.path.pardir, 'dataset', 'gplus', 'gplus_combined.txt'))\n",
    "graph_files.append(os.path.join(os.path.pardir, 'dataset', 'soc_pokec', 'soc-pokec-relationships.txt'))\n",
    "\n",
    "graph_names = [\"wikivote\", \"epinions\", \"gplus\", \"pokec\"]"
   ]
  },
  {
   "cell_type": "code",
   "execution_count": 3,
   "metadata": {},
   "outputs": [],
   "source": [
    "\n",
    "graphname = graph_names[0]\n",
    "file = graph_files[0]\n",
    "#fh = open(file, \"r\")\n",
    "# import of directed\n",
    "dG = nx.read_adjlist(file, create_using=nx.DiGraph())\n",
    "# conversion to undirected graph\n",
    "G = dG.to_undirected()"
   ]
  },
  {
   "cell_type": "code",
   "execution_count": 4,
   "metadata": {
    "collapsed": true
   },
   "outputs": [
    {
     "name": "stdout",
     "output_type": "stream",
     "text": [
      "20152\n20152\n"
     ]
    },
    {
     "name": "stdout",
     "output_type": "stream",
     "text": [
      "20152\n20152\n20152\n"
     ]
    },
    {
     "name": "stdout",
     "output_type": "stream",
     "text": [
      "20152\n20152\n20152\n"
     ]
    },
    {
     "name": "stdout",
     "output_type": "stream",
     "text": [
      "20152\n20152\n20152\n"
     ]
    },
    {
     "name": "stdout",
     "output_type": "stream",
     "text": [
      "20152\n20152\n20152\n"
     ]
    },
    {
     "name": "stdout",
     "output_type": "stream",
     "text": [
      "20152\n20152\n20152\n"
     ]
    },
    {
     "name": "stdout",
     "output_type": "stream",
     "text": [
      "20152\n20152\n20152\n20152"
     ]
    },
    {
     "name": "stdout",
     "output_type": "stream",
     "text": [
      "\n20152\n20152\n20152\n20152\n"
     ]
    },
    {
     "name": "stdout",
     "output_type": "stream",
     "text": [
      "20152\n20152\n20152\n20152\n"
     ]
    },
    {
     "name": "stdout",
     "output_type": "stream",
     "text": [
      "20152\n20152\n20152\n20152\n"
     ]
    },
    {
     "name": "stdout",
     "output_type": "stream",
     "text": [
      "20152\n"
     ]
    },
    {
     "name": "stdout",
     "output_type": "stream",
     "text": [
      "20152\n20152\n20152\n20152\n"
     ]
    },
    {
     "name": "stdout",
     "output_type": "stream",
     "text": [
      "20152\n"
     ]
    },
    {
     "name": "stdout",
     "output_type": "stream",
     "text": [
      "20152\n20152\n20152\n20152\n"
     ]
    },
    {
     "name": "stdout",
     "output_type": "stream",
     "text": [
      "20152\n"
     ]
    },
    {
     "name": "stdout",
     "output_type": "stream",
     "text": [
      "20152\n20152\n20152\n20152\n"
     ]
    },
    {
     "name": "stdout",
     "output_type": "stream",
     "text": [
      "20152\n20152\n"
     ]
    },
    {
     "name": "stdout",
     "output_type": "stream",
     "text": [
      "20152\n20152\n20152\n20152\n"
     ]
    },
    {
     "name": "stdout",
     "output_type": "stream",
     "text": [
      "20152\n20152\n20152\n"
     ]
    },
    {
     "name": "stdout",
     "output_type": "stream",
     "text": [
      "20152\n20152\n20152\n"
     ]
    },
    {
     "name": "stdout",
     "output_type": "stream",
     "text": [
      "30228\n30228\n30228\n"
     ]
    },
    {
     "name": "stdout",
     "output_type": "stream",
     "text": [
      "30228\n30228\n30228\n"
     ]
    },
    {
     "name": "stdout",
     "output_type": "stream",
     "text": [
      "30228\n30228\n30228\n"
     ]
    },
    {
     "name": "stdout",
     "output_type": "stream",
     "text": [
      "30228\n30228\n30228\n"
     ]
    },
    {
     "name": "stdout",
     "output_type": "stream",
     "text": [
      "30228\n30228\n30228\n"
     ]
    },
    {
     "name": "stdout",
     "output_type": "stream",
     "text": [
      "30228\n30228\n30228"
     ]
    },
    {
     "name": "stdout",
     "output_type": "stream",
     "text": [
      "\n30228\n30228\n30228\n"
     ]
    },
    {
     "name": "stdout",
     "output_type": "stream",
     "text": [
      "30228\n30228\n30228\n"
     ]
    },
    {
     "name": "stdout",
     "output_type": "stream",
     "text": [
      "30228\n30228\n"
     ]
    },
    {
     "name": "stdout",
     "output_type": "stream",
     "text": [
      "30228\n30228\n30228\n"
     ]
    },
    {
     "name": "stdout",
     "output_type": "stream",
     "text": [
      "30228\n30228\n30228\n"
     ]
    },
    {
     "name": "stdout",
     "output_type": "stream",
     "text": [
      "30228\n30228\n30228\n"
     ]
    },
    {
     "name": "stdout",
     "output_type": "stream",
     "text": [
      "30228\n"
     ]
    },
    {
     "name": "stdout",
     "output_type": "stream",
     "text": [
      "30228\n30228\n30228\n"
     ]
    },
    {
     "name": "stdout",
     "output_type": "stream",
     "text": [
      "30228\n30228\n30228\n"
     ]
    },
    {
     "name": "stdout",
     "output_type": "stream",
     "text": [
      "30228\n30228\n30228\n"
     ]
    },
    {
     "name": "stdout",
     "output_type": "stream",
     "text": [
      "30228\n30228\n30228\n"
     ]
    },
    {
     "name": "stdout",
     "output_type": "stream",
     "text": [
      "30228\n30228\n30228\n"
     ]
    },
    {
     "name": "stdout",
     "output_type": "stream",
     "text": [
      "30228\n30228\n30228\n"
     ]
    },
    {
     "name": "stdout",
     "output_type": "stream",
     "text": [
      "30228\n30228"
     ]
    },
    {
     "name": "stdout",
     "output_type": "stream",
     "text": [
      "\n30228\n30228\n30228\n"
     ]
    },
    {
     "name": "stdout",
     "output_type": "stream",
     "text": [
      "30228\n20152\n20152\n20152\n"
     ]
    },
    {
     "name": "stdout",
     "output_type": "stream",
     "text": [
      "20152\n20152\n20152\n20152\n"
     ]
    },
    {
     "name": "stdout",
     "output_type": "stream",
     "text": [
      "20152\n"
     ]
    },
    {
     "name": "stdout",
     "output_type": "stream",
     "text": [
      "20152\n20152\n20152\n20152\n"
     ]
    },
    {
     "name": "stdout",
     "output_type": "stream",
     "text": [
      "20152\n20152\n20152\n20152\n"
     ]
    },
    {
     "name": "stdout",
     "output_type": "stream",
     "text": [
      "20152\n20152\n20152\n20152\n"
     ]
    },
    {
     "name": "stdout",
     "output_type": "stream",
     "text": [
      "20152\n20152\n20152\n"
     ]
    },
    {
     "name": "stdout",
     "output_type": "stream",
     "text": [
      "20152\n20152\n20152\n20152\n"
     ]
    },
    {
     "name": "stdout",
     "output_type": "stream",
     "text": [
      "20152\n20152\n20152\n20152\n"
     ]
    },
    {
     "name": "stdout",
     "output_type": "stream",
     "text": [
      "20152\n20152\n20152\n20152\n"
     ]
    },
    {
     "name": "stdout",
     "output_type": "stream",
     "text": [
      "20152\n20152\n20152\n20152"
     ]
    },
    {
     "name": "stdout",
     "output_type": "stream",
     "text": [
      "\n20152\n20152\n20152\n20152\n"
     ]
    },
    {
     "name": "stdout",
     "output_type": "stream",
     "text": [
      "20152\n20152\n20152\n20152\n"
     ]
    },
    {
     "name": "stdout",
     "output_type": "stream",
     "text": [
      "20152\n20152\n20152\n20152\n"
     ]
    },
    {
     "name": "stdout",
     "output_type": "stream",
     "text": [
      "20152\n20152\n20152\n20152\n"
     ]
    },
    {
     "name": "stdout",
     "output_type": "stream",
     "text": [
      "20152\n"
     ]
    },
    {
     "name": "stdout",
     "output_type": "stream",
     "text": [
      "20152\n20152\n20152\n20152\n"
     ]
    },
    {
     "name": "stdout",
     "output_type": "stream",
     "text": [
      "30228\n30228\n30228\n"
     ]
    },
    {
     "name": "stdout",
     "output_type": "stream",
     "text": [
      "30228\n30228\n30228\n"
     ]
    },
    {
     "name": "stdout",
     "output_type": "stream",
     "text": [
      "30228\n30228\n30228\n"
     ]
    },
    {
     "name": "stdout",
     "output_type": "stream",
     "text": [
      "30228\n30228\n30228\n"
     ]
    },
    {
     "name": "stdout",
     "output_type": "stream",
     "text": [
      "30228\n"
     ]
    },
    {
     "name": "stdout",
     "output_type": "stream",
     "text": [
      "30228\n30228\n30228\n"
     ]
    },
    {
     "name": "stdout",
     "output_type": "stream",
     "text": [
      "30228\n30228\n30228\n"
     ]
    },
    {
     "name": "stdout",
     "output_type": "stream",
     "text": [
      "30228\n30228\n30228\n"
     ]
    },
    {
     "name": "stdout",
     "output_type": "stream",
     "text": [
      "30228\n30228\n30228\n"
     ]
    },
    {
     "name": "stdout",
     "output_type": "stream",
     "text": [
      "30228\n30228\n30228\n"
     ]
    },
    {
     "name": "stdout",
     "output_type": "stream",
     "text": [
      "30228\n30228\n30228\n"
     ]
    },
    {
     "name": "stdout",
     "output_type": "stream",
     "text": [
      "30228\n30228\n30228\n"
     ]
    },
    {
     "name": "stdout",
     "output_type": "stream",
     "text": [
      "30228\n30228\n30228\n"
     ]
    },
    {
     "name": "stdout",
     "output_type": "stream",
     "text": [
      "30228\n30228\n30228\n"
     ]
    },
    {
     "name": "stdout",
     "output_type": "stream",
     "text": [
      "30228\n30228\n30228\n"
     ]
    },
    {
     "name": "stdout",
     "output_type": "stream",
     "text": [
      "30228\n30228\n30228\n"
     ]
    },
    {
     "name": "stdout",
     "output_type": "stream",
     "text": [
      "30228\n30228\n30228\n"
     ]
    },
    {
     "name": "stdout",
     "output_type": "stream",
     "text": [
      "30228\n30228"
     ]
    },
    {
     "name": "stdout",
     "output_type": "stream",
     "text": [
      "\n30228\n30228\n30228\n"
     ]
    },
    {
     "name": "stdout",
     "output_type": "stream",
     "text": [
      "30228\n30228\n30228\n"
     ]
    },
    {
     "name": "stdout",
     "output_type": "stream",
     "text": [
      "30228\n30228\n30228\n"
     ]
    }
   ],
   "source": [
    "def create_empty_graph(directed):\n",
    "    if directed:\n",
    "        G = nx.DiGraph()\n",
    "    else:\n",
    "        G = nx.Graph()\n",
    "    return  G\n",
    "\n",
    "def reservoir_sampling(G, dim, n_repetitions, p_samples, directed):    \n",
    "    samples_mat_p = []\n",
    "    for p in p_samples:\n",
    "        samples_count = int(dim*p)\n",
    "        #print(samples_count)\n",
    "        samples_mat = []\n",
    "        for n in n_repetitions:\n",
    "            sampled_sub_graphs = []\n",
    "            for i in range(n):\n",
    "                subG = create_empty_graph(directed)\n",
    "\n",
    "                counter = 0\n",
    "                for t, edge in enumerate(G.edges):\n",
    "                    prob = np.random.uniform()\n",
    "                    threshold = min(float(samples_count)/(t+1), 1)\n",
    "\n",
    "                    if prob <= threshold:\n",
    "                        subG.add_edge(edge[0], edge[1])\n",
    "                        counter +=1\n",
    "                    if counter == samples_count:\n",
    "                        break\n",
    "                print(len(subG.edges))\n",
    "                sampled_sub_graphs.append(subG)\n",
    "            samples_mat.append(sampled_sub_graphs)\n",
    "        samples_mat_p.append(samples_mat)\n",
    "    return samples_mat_p\n",
    "\n",
    "np.random.seed(132435)\n",
    "p_samples = [0.2, 0.3]#, 0.4, 0.7]\n",
    "n_repetitions = [10, 50]#, 100, 500, 1000]\n",
    "\n",
    "dim = len(G.edges)\n",
    "\n",
    "matrix_cc = reservoir_sampling(G, dim, n_repetitions, p_samples, False)\n",
    "matrix_scc = reservoir_sampling(dG, dim, n_repetitions, p_samples, True)\n",
    "#matrix_cc = utils.load_or_do(graphname + \"_res_sampling_cc.pkl\", True, reservoir_sampling, G, dim, n_repetitions, p_samples, False) \n",
    "#matrix_scc = utils.load_or_do(graphname + \"_res_sampling_scc.pkl\", True, reservoir_sampling, dG, dim, n_repetitions, p_samples, True)"
   ]
  },
  {
   "cell_type": "code",
   "execution_count": 5,
   "metadata": {},
   "outputs": [
    {
     "ename": "AttributeError",
     "evalue": "'list' object has no attribute 'decode'",
     "traceback": [
      "\u001b[0;31m---------------------------------------------------------------------------\u001b[0m",
      "\u001b[0;31mAttributeError\u001b[0m                            Traceback (most recent call last)",
      "\u001b[0;32m<ipython-input-5-df2bbcbf9eb2>\u001b[0m in \u001b[0;36m<module>\u001b[0;34m()\u001b[0m\n\u001b[1;32m     15\u001b[0m         \u001b[0mstats_scc_n\u001b[0m \u001b[0;34m=\u001b[0m \u001b[0;34m[\u001b[0m\u001b[0;34m]\u001b[0m\u001b[0;34m\u001b[0m\u001b[0m\n\u001b[1;32m     16\u001b[0m         \u001b[0;32mfor\u001b[0m \u001b[0mh\u001b[0m \u001b[0;32min\u001b[0m \u001b[0mrange\u001b[0m\u001b[0;34m(\u001b[0m\u001b[0mn\u001b[0m\u001b[0;34m)\u001b[0m\u001b[0;34m:\u001b[0m\u001b[0;34m\u001b[0m\u001b[0m\n\u001b[0;32m---> 17\u001b[0;31m             \u001b[0mstats_cc\u001b[0m\u001b[0;34m,\u001b[0m \u001b[0mstats_scc\u001b[0m\u001b[0;34m,\u001b[0m \u001b[0mrun_time\u001b[0m \u001b[0;34m=\u001b[0m \u001b[0mutils\u001b[0m\u001b[0;34m.\u001b[0m\u001b[0mexact_computation\u001b[0m\u001b[0;34m(\u001b[0m\u001b[0mmatrix_cc\u001b[0m\u001b[0;34m,\u001b[0m \u001b[0mmatrix_scc\u001b[0m\u001b[0;34m)\u001b[0m\u001b[0;34m\u001b[0m\u001b[0m\n\u001b[0m\u001b[1;32m     18\u001b[0m             \u001b[0mstats_cc_n\u001b[0m\u001b[0;34m.\u001b[0m\u001b[0mappend\u001b[0m\u001b[0;34m(\u001b[0m\u001b[0mstats_cc\u001b[0m\u001b[0;34m)\u001b[0m\u001b[0;34m\u001b[0m\u001b[0m\n\u001b[1;32m     19\u001b[0m             \u001b[0mstats_scc_n\u001b[0m\u001b[0;34m.\u001b[0m\u001b[0mappend\u001b[0m\u001b[0;34m(\u001b[0m\u001b[0mstats_scc\u001b[0m\u001b[0;34m)\u001b[0m\u001b[0;34m\u001b[0m\u001b[0m\n",
      "\u001b[0;32m/home/michele/aalto/dm/DMproject/dmproject/utils/utils.py\u001b[0m in \u001b[0;36mexact_computation\u001b[0;34m(fh, graphname)\u001b[0m\n\u001b[1;32m    111\u001b[0m     \u001b[0mstart_time\u001b[0m \u001b[0;34m=\u001b[0m \u001b[0mtime\u001b[0m\u001b[0;34m.\u001b[0m\u001b[0mtime\u001b[0m\u001b[0;34m(\u001b[0m\u001b[0;34m)\u001b[0m\u001b[0;34m\u001b[0m\u001b[0m\n\u001b[1;32m    112\u001b[0m \u001b[0;34m\u001b[0m\u001b[0m\n\u001b[0;32m--> 113\u001b[0;31m     \u001b[0mdG\u001b[0m \u001b[0;34m=\u001b[0m \u001b[0mnx\u001b[0m\u001b[0;34m.\u001b[0m\u001b[0mread_adjlist\u001b[0m\u001b[0;34m(\u001b[0m\u001b[0mfh\u001b[0m\u001b[0;34m,\u001b[0m \u001b[0mcreate_using\u001b[0m\u001b[0;34m=\u001b[0m\u001b[0mnx\u001b[0m\u001b[0;34m.\u001b[0m\u001b[0mDiGraph\u001b[0m\u001b[0;34m(\u001b[0m\u001b[0;34m)\u001b[0m\u001b[0;34m)\u001b[0m\u001b[0;34m\u001b[0m\u001b[0m\n\u001b[0m\u001b[1;32m    114\u001b[0m     \u001b[0mG\u001b[0m \u001b[0;34m=\u001b[0m \u001b[0mdG\u001b[0m\u001b[0;34m.\u001b[0m\u001b[0mto_undirected\u001b[0m\u001b[0;34m(\u001b[0m\u001b[0;34m)\u001b[0m\u001b[0;34m\u001b[0m\u001b[0m\n\u001b[1;32m    115\u001b[0m \u001b[0;34m\u001b[0m\u001b[0m\n",
      "\u001b[0;32m<decorator-gen-466>\u001b[0m in \u001b[0;36mread_adjlist\u001b[0;34m(path, comments, delimiter, create_using, nodetype, encoding)\u001b[0m\n",
      "\u001b[0;32m/usr/local/lib/python2.7/dist-packages/networkx/utils/decorators.pyc\u001b[0m in \u001b[0;36m_open_file\u001b[0;34m(func, *args, **kwargs)\u001b[0m\n\u001b[1;32m    222\u001b[0m         \u001b[0;31m# Finally, we call the original function, making sure to close the fobj.\u001b[0m\u001b[0;34m\u001b[0m\u001b[0;34m\u001b[0m\u001b[0m\n\u001b[1;32m    223\u001b[0m         \u001b[0;32mtry\u001b[0m\u001b[0;34m:\u001b[0m\u001b[0;34m\u001b[0m\u001b[0m\n\u001b[0;32m--> 224\u001b[0;31m             \u001b[0mresult\u001b[0m \u001b[0;34m=\u001b[0m \u001b[0mfunc\u001b[0m\u001b[0;34m(\u001b[0m\u001b[0;34m*\u001b[0m\u001b[0mnew_args\u001b[0m\u001b[0;34m,\u001b[0m \u001b[0;34m**\u001b[0m\u001b[0mkwargs\u001b[0m\u001b[0;34m)\u001b[0m\u001b[0;34m\u001b[0m\u001b[0m\n\u001b[0m\u001b[1;32m    225\u001b[0m         \u001b[0;32mfinally\u001b[0m\u001b[0;34m:\u001b[0m\u001b[0;34m\u001b[0m\u001b[0m\n\u001b[1;32m    226\u001b[0m             \u001b[0;32mif\u001b[0m \u001b[0mclose_fobj\u001b[0m\u001b[0;34m:\u001b[0m\u001b[0;34m\u001b[0m\u001b[0m\n",
      "\u001b[0;32m/usr/local/lib/python2.7/dist-packages/networkx/readwrite/adjlist.pyc\u001b[0m in \u001b[0;36mread_adjlist\u001b[0;34m(path, comments, delimiter, create_using, nodetype, encoding)\u001b[0m\n\u001b[1;32m    302\u001b[0m                          \u001b[0mdelimiter\u001b[0m\u001b[0;34m=\u001b[0m\u001b[0mdelimiter\u001b[0m\u001b[0;34m,\u001b[0m\u001b[0;34m\u001b[0m\u001b[0m\n\u001b[1;32m    303\u001b[0m                          \u001b[0mcreate_using\u001b[0m\u001b[0;34m=\u001b[0m\u001b[0mcreate_using\u001b[0m\u001b[0;34m,\u001b[0m\u001b[0;34m\u001b[0m\u001b[0m\n\u001b[0;32m--> 304\u001b[0;31m                          nodetype=nodetype)\n\u001b[0m\u001b[1;32m    305\u001b[0m \u001b[0;34m\u001b[0m\u001b[0m\n\u001b[1;32m    306\u001b[0m \u001b[0;31m# fixture for nose tests\u001b[0m\u001b[0;34m\u001b[0m\u001b[0;34m\u001b[0m\u001b[0m\n",
      "\u001b[0;32m/usr/local/lib/python2.7/dist-packages/networkx/readwrite/adjlist.pyc\u001b[0m in \u001b[0;36mparse_adjlist\u001b[0;34m(lines, comments, delimiter, create_using, nodetype)\u001b[0m\n\u001b[1;32m    201\u001b[0m             \u001b[0;32mraise\u001b[0m \u001b[0mTypeError\u001b[0m\u001b[0;34m(\u001b[0m\u001b[0;34m\"Input graph is not a NetworkX graph type\"\u001b[0m\u001b[0;34m)\u001b[0m\u001b[0;34m\u001b[0m\u001b[0m\n\u001b[1;32m    202\u001b[0m \u001b[0;34m\u001b[0m\u001b[0m\n\u001b[0;32m--> 203\u001b[0;31m     \u001b[0;32mfor\u001b[0m \u001b[0mline\u001b[0m \u001b[0;32min\u001b[0m \u001b[0mlines\u001b[0m\u001b[0;34m:\u001b[0m\u001b[0;34m\u001b[0m\u001b[0m\n\u001b[0m\u001b[1;32m    204\u001b[0m         \u001b[0mp\u001b[0m \u001b[0;34m=\u001b[0m \u001b[0mline\u001b[0m\u001b[0;34m.\u001b[0m\u001b[0mfind\u001b[0m\u001b[0;34m(\u001b[0m\u001b[0mcomments\u001b[0m\u001b[0;34m)\u001b[0m\u001b[0;34m\u001b[0m\u001b[0m\n\u001b[1;32m    205\u001b[0m         \u001b[0;32mif\u001b[0m \u001b[0mp\u001b[0m \u001b[0;34m>=\u001b[0m \u001b[0;36m0\u001b[0m\u001b[0;34m:\u001b[0m\u001b[0;34m\u001b[0m\u001b[0m\n",
      "\u001b[0;32m/usr/local/lib/python2.7/dist-packages/networkx/readwrite/adjlist.pyc\u001b[0m in \u001b[0;36m<genexpr>\u001b[0;34m((line,))\u001b[0m\n\u001b[1;32m    297\u001b[0m     \u001b[0mwrite_adjlist\u001b[0m\u001b[0;34m\u001b[0m\u001b[0m\n\u001b[1;32m    298\u001b[0m     \"\"\"\n\u001b[0;32m--> 299\u001b[0;31m     \u001b[0mlines\u001b[0m \u001b[0;34m=\u001b[0m \u001b[0;34m(\u001b[0m\u001b[0mline\u001b[0m\u001b[0;34m.\u001b[0m\u001b[0mdecode\u001b[0m\u001b[0;34m(\u001b[0m\u001b[0mencoding\u001b[0m\u001b[0;34m)\u001b[0m \u001b[0;32mfor\u001b[0m \u001b[0mline\u001b[0m \u001b[0;32min\u001b[0m \u001b[0mpath\u001b[0m\u001b[0;34m)\u001b[0m\u001b[0;34m\u001b[0m\u001b[0m\n\u001b[0m\u001b[1;32m    300\u001b[0m     return parse_adjlist(lines,\n\u001b[1;32m    301\u001b[0m                          \u001b[0mcomments\u001b[0m\u001b[0;34m=\u001b[0m\u001b[0mcomments\u001b[0m\u001b[0;34m,\u001b[0m\u001b[0;34m\u001b[0m\u001b[0m\n",
      "\u001b[0;31mAttributeError\u001b[0m: 'list' object has no attribute 'decode'"
     ],
     "output_type": "error"
    }
   ],
   "source": [
    "def aggregate_stats(stats_n):\n",
    "    diam = np.max(stats_n[:, 0])\n",
    "    mean_diam = np.mean(stats_n[:, 2])\n",
    "    median_diam = np.median(stats_n[:, 3])\n",
    "    eff_diam = np.mean(stats_n[:, 1])\n",
    "    return [diam, mean_diam, median_diam, eff_diam]\n",
    "    \n",
    "stats_cc_p = []\n",
    "stats_scc_p = []\n",
    "for i, p in enumerate(p_samples):\n",
    "    stats_cc_aggr = []\n",
    "    stats_scc_aggr = []\n",
    "    for j, n in enumerate(n_repetitions):\n",
    "        stats_cc_n = []\n",
    "        stats_scc_n = []\n",
    "        for h in range(n):\n",
    "            stats_cc, stats_scc, run_time = utils.exact_computation(matrix_cc[i][j][h], matrix_scc[i][j][h])\n",
    "            stats_cc_n.append(stats_cc)\n",
    "            stats_scc_n.append(stats_scc)\n",
    "        stats_cc_n = np.array(stats_cc_n)\n",
    "        stats_scc_n = np.array(stats_scc_n)\n",
    "        \n",
    "        aggr_stats_cc = aggregate_stats(stats_cc_n)\n",
    "        aggr_stats_scc = aggregate_stats(stats_scc_n)\n",
    "        \n",
    "        stats_cc_aggr.append(aggr_stats_cc)\n",
    "        stats_scc_aggr.append(aggr_stats_scc)\n",
    "    stats_cc_p.append(stats_cc_aggr)\n",
    "    stats_scc_p.append(stats_scc_aggr)\n",
    "        "
   ]
  },
  {
   "cell_type": "code",
   "execution_count": null,
   "metadata": {},
   "outputs": [],
   "source": []
  }
 ],
 "metadata": {
  "kernelspec": {
   "display_name": "Python 2",
   "language": "python",
   "name": "python2"
  },
  "language_info": {
   "codemirror_mode": {
    "name": "ipython",
    "version": 2
   },
   "file_extension": ".py",
   "mimetype": "text/x-python",
   "name": "python",
   "nbconvert_exporter": "python",
   "pygments_lexer": "ipython2",
   "version": "2.7.6"
  }
 },
 "nbformat": 4,
 "nbformat_minor": 0
}
